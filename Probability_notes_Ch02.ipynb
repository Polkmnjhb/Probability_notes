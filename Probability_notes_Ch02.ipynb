{
 "metadata": {
  "name": ""
 },
 "nbformat": 3,
 "nbformat_minor": 0,
 "worksheets": [
  {
   "cells": [
    {
     "cell_type": "heading",
     "level": 1,
     "metadata": {},
     "source": [
      "<font color='red'>#Ch02-\u300c\u96e2\u6563\u96a8\u6a5f\u8b8a\u6578(Discrete Random Variables)\u300d</font>"
     ]
    }
   ],
   "metadata": {}
  }
 ]
}