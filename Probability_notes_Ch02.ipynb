{
 "metadata": {
  "name": ""
 },
 "nbformat": 3,
 "nbformat_minor": 0,
 "worksheets": [
  {
   "cells": [
    {
     "cell_type": "heading",
     "level": 1,
     "metadata": {},
     "source": [
      "<font color='red'>#Ch02-\u300c\u96e2\u6563\u96a8\u6a5f\u8b8a\u6578(Discrete Random Variables)\u300d</font>"
     ]
    },
    {
     "cell_type": "heading",
     "level": 2,
     "metadata": {},
     "source": [
      "#2.1 \u2014\u5b9a\u7fa9"
     ]
    },
    {
     "cell_type": "markdown",
     "metadata": {},
     "source": [
      "\u5728\u4ecb\u7d39D.R.V.\u4e4b\u524d\uff0c\u5148\u770b\u4e00\u500b\u7c21\u55ae\u7684\u4f8b\u5b50\u3002<br><br>\n",
      " <font color='blue'>\n",
      "Example.2-1\uff1a<br>\n",
      "\u6709\u4e00\u8ced\u5c40\u898f\u5247\u5982\u4e0b\uff1a\u300c\u64f2\u51fa\u4e00\u679a\u9285\u5e63\uff0c\u82e5\u4eba\u982d\u671d\u4e0a\u8d0f 1 \u5143\uff0c\u5b57\u671d\u4e0a\u5247\u8f38 1 \u5143\u3002\u300d<br>\n",
      "\u5047\u8a2d\u6bcf\u4e00\u6b21\u8ced\u5c40\u5747\u70ba\u7368\u7acb<br>\n",
      "\u4e26\u4ee4\u4eba\u982d\u671d\u4e0a\u7684\u4e8b\u4ef6\u70baH\uff0c\u6a5f\u7387\u70baP\uff1b\u5b57\u671d\u4e0a\u7684\u4e8b\u4ef6\u70baT\uff0c\u6a5f\u7387\u70ba\uff081-P\uff09\u3002<br>\n",
      "\u5247\u67d0\u73a9\u5bb6\u57f7\u884c\u4e09\u6b21\u8ced\u5c40\u7684\u7d50\u679c\u53ef\u7528\u4e0b\u5217\u8868\u683c\u8868\u793a<br>\n",
      "</font>\n",
      " <font color='blue'>\n",
      "$$\n",
      "\\begin{array}{clcr}\n",
      "& \u4e8b\u4ef6\u540d\u7a31& w\uff08\u8f38\u51fa\uff09 & \\mathcal{X}(w)\uff08\u7522\u503c\uff09 &  P(w)\uff08\u6a5f\u7387\uff09\\\\\n",
      "& w_1 & HHH & 3 \u3000& p^3 \\\\\n",
      "& w_2 & HHT & 1 \u3000& p^2*(1-p) \\\\ \n",
      "& w_3 & HTH & 1 \u3000& p^2*(1-p) \\\\\n",
      "& w_4 & THH & 1 \u3000& p^3*(1-p) \\\\\n",
      "& w_5 & HTT & -1 \u3000& p*(1-p)^2 \\\\\n",
      "& w_6 & THT & -1 \u3000& p*(1-p)^2 \\\\\n",
      "& w_7 & TTH & -1 \u3000& p*(1-p)^2 \\\\\n",
      "& w_8 & TTT & -3 \u3000& (1-p)^3 \\\\\n",
      "\\end{array}\n",
      "$$\n",
      "\n",
      "</font>"
     ]
    },
    {
     "cell_type": "markdown",
     "metadata": {},
     "source": [
      "\u4e5f\u5c31\u662f\u8aaa\uff0c$\\Omega=\\{w_1,w_2,...,w_8\\}$\uff0c$P(w_1)=p^3,...,P(w_8)=(1-p)^3$<br>\n",
      "\u4e14($\\Omega$,$\\mathcal{A}$,$\\mathcal{P}$)\u662f\u4e00\u500b\u6a5f\u7387\u7a7a\u9593<br>\n",
      "\u8ced\u5c40\u7684\u7522\u503c\u6709\u56db\u7a2e\uff0c\u5206\u5225\u70ba3,1,-1\u53ca-3 <br>\n",
      "\u6211\u5011\u53ef\u7528$\\{w | \\mathcal{X}(w)=1\\}$\u4ee3\u8868\u7522\u503c\u70ba1\u7684\u4e8b\u4ef6\uff0c<br>\n",
      "\u800c\u4e14$\\{w | \\mathcal{X}(w)=1\\}=\\{w_2,w_3,w_4\\}$\uff0c\u5171\u67093\u500b\u6a23\u672c\u9ede\u3002<br>\n",
      "\u767c\u751f\u8a72\u4e8b\u4ef6\u7684\u6a5f\u7387\u70ba$P(w_2)+P(w_3)+P(w_4)=3p^2(1-p)$<br>\n",
      "\u7c21\u800c\u8a00\u4e4b\uff0c$\\{\\mathcal{X}=1\\}$\u7684\u6a5f\u7387\u70ba$3p^2(1-p)$<br>\n",
      "\n",
      "\u5c0d\u65bc\u6bcf\u4e00\u500b\u7d66\u5b9a\u7684\u6578\u503c$\\alpha$\uff0c\u6211\u5011\u53ef\u4ee5\u5f88\u660e\u78ba\u7684\u5b9a\u7fa9$\\{\\mathcal{X}=\\alpha\\}$\u5176\u5c0d\u61c9\u7684\u6a5f\u7387\u70ba\u4f55<br>\n",
      "\u5247$\\mathcal{X}$\u7a31\u4e4b\u70ba\u4e00\u500b<font color='red'>\u96e2\u6563\u96a8\u6a5f\u8b8a\u6578(Discrete Random Variables)</font>\uff0c\u7c21\u7a31D.R.V.<br>\n",
      "D.R.V.\u4e4b\u56b4\u8b39\u5b9a\u7fa9\u5982\u4e0b\uff1a"
     ]
    },
    {
     "cell_type": "markdown",
     "metadata": {},
     "source": [
      "<font color='green'>\n",
      "Def.2-2\uff1aA <font color='red'>discrete real-valued random variable</font> $\\mathcal{X}$ on a probability space ($\\Omega$,$\\mathcal{A}$,$\\mathcal{P}$) is a function $\\mathcal{X}$ with domain $\\Omega$ and range a finite or countably infinite subset $\\{x_1,x_2,...\\}$ of the real number $R$ such that $\\{w | \\mathcal{X}(w)=x_i\\}$ is an event for all $i$<br>\n",
      "</font>"
     ]
    },
    {
     "cell_type": "markdown",
     "metadata": {},
     "source": [
      "\u4e00\u822c\u4f86\u8aaa\uff0c\u5c0d\u65bc\u4efb\u610f\u7684\u6578\u503c$\\gamma$ \uff0c$\\{\\mathcal{X}=\\gamma\\}$\u4e0d\u4e00\u5b9a\u5728$\\mathcal{A}$\u5167<br>\n",
      "\u7121\u6cd5\u5b9a\u7fa9$\\{\\mathcal{X}=\\gamma\\}$\u7684\u6a5f\u7387\uff0c\u56e0\u6b64\u5728\u5b9a\u7fa9D.R.V.\u6642\uff0c\u8981\u6c42$\\{\\mathcal{X}=x_i\\}$\u5728$\\mathcal{A}$\u5167<br>\n",
      "\u4e5f\u5c31\u662f\u8aaa\uff0c$\\{\\mathcal{X}=x_i\\}$\u8981\u70ba\u4e00\u500b\u4e8b\u4ef6\u3002<br>\n",
      "\u82e5$x_i$\u7684\u6578\u91cf\u70ba\u6709\u9650\u6216\u7121\u9650\u53ef\u6578\uff0c\u7a31\u70ba\u96e2\u6563\u578b\u96a8\u6a5f\u8b8a\u6578\uff0c\u7c21\u7a31D.R.V. <br>\n",
      "\u82e5$-\\infty < x_i < \\infty , x_i \\in R$\uff0c\u7a31\u70ba\u9023\u7e8c\u578b\u96a8\u6a5f\u8b8a\u6578\uff0c\u7c21\u7a31C.R.V.(Continuous) \u3002<br>\n",
      "<br>\n",
      "\u5c0d\u65bc\u4e00\u500b\u5728($\\Omega$,$\\mathcal{A}$,$\\mathcal{P}$)\u5167\u7684\u96a8\u6a5f\u8b8a\u6578$\\mathcal{X}$\uff0c\u8a08\u7b97\u5176\u6a5f\u7387\u662f\u975e\u5e38\u7c21\u55ae\u7684<br>\n",
      "\u82e5\u5c0d\u65bc\u67d0\u500b\u7d66\u5b9a\u7684\u6578\u503c$x_i \\in R$ , $\\{w|\\mathcal{X}(w)=x_i\\} =\\{w_1,...,w_n\\}$\u662f\u4e00\u500b\u4e8b\u4ef6<br>\n",
      "\u6b64\u4e8b\u4ef6\u7684\u6a5f\u7387\u5176\u5be6\u5c31\u662f\u628a\u5404\u500b\u6a23\u672c\u9ede\u7684\u6a5f\u7387\u76f8\u52a0<br>\n",
      "\u56e0\u6b64\u6a5f\u7387\u70ba$P(\\{w|\\mathcal{X}(w)=x_i\\})=P(w_1)+P(w_2)+...+P(w_n)$\uff0c\u7c21\u5beb\u70ba$P(\\mathcal{X}=x_i)$<br>\n",
      "<br>\n",
      "\u63a5\u8457\u6211\u5011\u8981\u5b9a\u7fa9<font color='red'>\u96e2\u6563\u6a5f\u7387\u5bc6\u5ea6\u51fd\u6578(Discrete Probability Density Function)</font>\uff0c\u7c21\u7a31\u70baP.D.F.<br>\n",
      "\n"
     ]
    },
    {
     "cell_type": "markdown",
     "metadata": {},
     "source": [
      "<font color='red'>"
     ]
    },
    {
     "cell_type": "markdown",
     "metadata": {},
     "source": [
      "<font color='green'>\n",
      "Def.2-3\uff1aThe real-values function f defined on R by $f(x)=P(\\mathcal{X}=x)$ is called a <font color='red'>the discrete density function(\u96e2\u6563\u5bc6\u5ea6\u51fd\u6578)</font> of $\\mathcal{X}$. A number $x$ is called a possible value of $\\mathcal{X}$ if $f(x)>0$\n",
      "</font>"
     ]
    },
    {
     "cell_type": "markdown",
     "metadata": {},
     "source": [
      "\u5c0d\u65bc\u67d0\u500b\u96a8\u6a5f\u8b8a\u6578$\\mathcal{X}$\uff0c\u5176P.D.F.\u8a18\u70ba$f_\\mathcal{X}$ \uff0c\u4e0b\u8868\u5217\u51fa\u5e38\u7528D.R.V.\u4e4bP.D.F.\u53ca\u5176\u6027\u8cea\uff0c\u7576\u8b80\u8005\u4e0d\u5c0f\u5fc3\u5fd8\u8a18\u67d0D.R.V.\u6642\uff0c\u53ef\u56de\u5230\u6b64\u8868\u5feb\u901f\u67e5\u8a62\uff0c\u5728\u63a5\u4e0b\u4f86\u7684\u7ae0\u7bc0\u4e2d\u6703\u4e00\u4e00\u4ecb\u7d39\u8868\u4e2d\u7684\u6027\u8cea\uff0c\u4f46\u4e26\u4e0d\u6703\u63a8\u5c0e\u6240\u6709\u7684\u516c\u5f0f\uff0c\u672a\u8a73\u76e1\u4e4b\u8655\u8acb\u8b80\u8005\u81ea\u884c\u8b49\u660e\u3002"
     ]
    },
    {
     "cell_type": "markdown",
     "metadata": {},
     "source": [
      "<font color='blue'>\n",
      "Table.2-4\uff1a\n",
      "$$\n",
      "\\begin{array}{clcr}\n",
      "& \u540d\u7a31& \u7e2e\u5beb &  P.D.F. & \u751f\u6210\u51fd\u6578 & \u671f\u671b\u503c & \u8b8a\u7570\u6578\\\\\n",
      "& \\\\\n",
      "& \u5e38\u6578(Constant) & \u7121 &   f_1(x)=1 , x=c& t^x&& \\\\\n",
      "&&& f_1(x)=0 , x\\not = c&&& \\\\\n",
      "& \\\\\n",
      "& \u6307\u793a(Indicator) & \u7121& f_2(x)=1 , x \\in A& nt^x&& \\\\\n",
      "&&& f_2(x)=0 , x\\not \\in A&&& \\\\\n",
      "& \\\\\n",
      "& \u4e00\u81f4(Uniformly) & U(n) & f_3(x)=\\frac{1}{n} ,x=1,2,...,n & t^x & \\frac{n+1}{2} &\\frac{n^2-1}{12} \\\\\n",
      "&&& f_3(x)=0 , otherwise &&& \\\\\n",
      "& \\\\\n",
      "& \u4e8c\u9805(Binomial)& B(n;p) & f_4(x)=\\binom{n}{x}p^x(1-p)^{n-x} , x=0,1,2,...,n &(pt+1-p)^n& np & np(1-p)\\\\\n",
      "&&& f_4(x)=0 , otherwise&&& \\\\\n",
      "& \\\\\n",
      "& \u5e7e\u4f55(Geometric)& G(p) & f_5(x)=p(1-p)^x,x=0,1,2,... & \\frac{p}{1-t(1-p)}& 1/p& \\frac{1-p}{p^2} \\\\\n",
      "&&& f_5(x)=0 , otherwise&&& \\\\\n",
      "& \\\\\n",
      "& \u8d85\u5e7e\u4f55(Hypergeometric)& \u7121 & f_6(x)=\\frac{\\binom{r_1}{x}\\binom{r-r_1}{n-x}}{\\binom{r}{n}} , x=0,1,2,...,n&& n(\\frac{r_1}{r})& n(\\frac{(r_1)(r-r_1)(r-n)}{(r)(r)(r-1)})& \\\\\n",
      "&&& f_6(x)=0 , otherwise&&& \\\\\n",
      "& \\\\\n",
      "& \u8ca0\u4e8c\u9805(Negative Binomial)& NB(\\alpha ; p)& f_7(x)=p^\\alpha \\binom{-\\alpha}{x}(-1)^x(1-p)^x, x=0,1,2,...&{(\\frac{p}{1-t(1-p)})}^{\\alpha}&\\frac{\\alpha p}{1-p}& \\frac{\\alpha p}{(1-p)^2}\\\\\n",
      "&&& f_7(x)=0 , otherwise&&& \\\\\n",
      "& \\\\\n",
      "& \u535c\u677e(Poisson)& P(\\lambda)& f_8(x)=\\frac{\\lambda^x e^{-\\lambda}}{x!},x=0,1,2,... & e^{\\lambda(t-1)}&\\lambda & \\lambda\\\\\n",
      "&&& f_8(x)=0 , otherwise&&& \\\\\n",
      "& \\\\\n",
      "& \u591a\u91cd\u5e38\u614b(Multinomial)& M(n;p_1,p_2,...,p_r)& f_9(x)=(\\frac{n!}{(x_1)!(x_2)!...(x_r)!}){p_1}^{x_1}{p_2}^{x_2}...{p_r}^{x_r},\\sum^r_{i=1} x_i=n , x_i\\geq 0 & ? & E(x_i)=np_i & Var(x_i)=np_i(1-p_i)\\\\\n",
      "&&& f_9(x)=0 , otherwise&&& \\\\\n",
      "\\end{array}\n",
      "$$\n",
      "</font>"
     ]
    },
    {
     "cell_type": "heading",
     "level": 2,
     "metadata": {},
     "source": [
      "#2.2 \u2014\u5bc6\u5ea6\u7684\u8a08\u7b97"
     ]
    },
    {
     "cell_type": "markdown",
     "metadata": {},
     "source": [
      "\u57282.1\u4e2d\uff0c\u6211\u5011\u5b9a\u7fa9\u7684P.D.F.\u53ea\u80fd\u8a08\u7b97\u55ae\u9ede$x_i$\u7684\u6a5f\u7387\uff0c\u4e5f\u5c31\u662f$f(x_i)=P(\\mathcal{X}=x_i)$<br>\n",
      "\u73fe\u5728\u4ee4$A$\u70ba\u4e00\u4e8b\u4ef6\uff0c\u4e14$A=\\{x_1,x_2,...,x_n\\},x_i \\in \\Omega $<br>\n",
      "\u56e0\u70ba$x_i$\u5747\u70ba\u4e92\u65a5\u4e8b\u4ef6\uff0c\u8a08\u7b97$A$\u7684\u6a5f\u7387\u6642\uff0c\u53ef\u8996\u70ba\u9019n\u500b\u9ede\u7684\u6a5f\u7387\u76f8\u52a0<br>\n",
      "\u4e5f\u5c31\u662f\u8aaa\uff0c$P(\\mathcal{X} \\in A ) =\\sum^n_{i=1}P(\\mathcal{X}=x_i)=\\sum_{x \\in A} f(x)$<br>\n",
      "<br>"
     ]
    },
    {
     "cell_type": "markdown",
     "metadata": {},
     "source": [
      "<font color='green'>\n",
      "Def.2-5\uff1aThe function $F(t),-\\infty < t < \\infty $ defined by $F(t)=P(\\mathcal{X}\\leq t ) = \\sum_{x\\leq t}f(x) , -\\infty < t < \\infty$ <br>\n",
      "is called <font color='red'>the distribution function(\u5206\u914d\u51fd\u6578) </font> of the random variable of the random variable $\\mathcal{X}$ or of the density $f$\u3002\n",
      "</font>"
     ]
    },
    {
     "cell_type": "markdown",
     "metadata": {},
     "source": [
      "\u7531Def.2-5\uff0c\u53ef\u8a08\u7b97$P(a< \\mathcal{X} \\leq b) = P(\\mathcal{X}\\leq b ) - P(\\mathcal{X} \\leq a) = F(b) - F(a)$<br>\n",
      "\u800c\u5982\u679c$\\mathcal{X}$\u662f\u4e00\u500b\u6574\u6578\u96a8\u6a5f\u8b8a\u6578\uff0c$F_\\mathcal{X}(t) = \\sum^{[t]}_{x=-\\infty}f(x)=P(\\mathcal{X} \\leq t)$\uff0c\u5176\u4e2d$[t]$\u70ba\u5c0f\u65bc\u6216\u7b49\u65bc$t$\u7684\u6700\u5927\u6574\u6578\u3002<br>"
     ]
    },
    {
     "cell_type": "markdown",
     "metadata": {},
     "source": [
      "<font color='blue'>\n",
      "Example.2-6\uff1a\u4ee4$\\mathcal{X} \\sim G(p)$ \uff0c\u627e\u51fa\u4e0b\u5217\u5206\u914d\uff1a<br>\n",
      "(a)$F(\\mathcal{X})$<br>\n",
      "(b)$P(\\mathcal{X} \\geq x)$<br>\n",
      "(c)\u8b49\u660e$P(\\mathcal{X}>n+m)=P(\\mathcal{X}>n) P(\\mathcal{X} >m) , n,m=0,1,2,... $<br>\n",
      "(d)$P(\\mathcal{X}=n)$<br>\n",
      "</font><br>\n",
      "Sol\uff1a(a)<br>\n",
      "$\\mathcal{X} \\sim G(p) \\Rightarrow f(x)=p(1-p)^x$<br>\n",
      "\u56e0\u6b64$F_\\mathcal{X}(t) = \\sum^{[t]}_{x=-\\infty}f(x)= \\sum^{[t]}_{x=0}p(1-p)^x,t \\geq 0$<br>\n",
      "\u7531\u7b49\u6bd4\u7d1a\u6578\u516c\u5f0f<br>\n",
      "$\\Rightarrow F_\\mathcal{X}(t) =p(\\frac{1-(1-p)^{[t]+1}}{1-(1-p)}) = p(\\frac{1-(1-p)^{[t]+1})}{p})=1-(1-p)^{[t]+1} $ <br>\n",
      "(b)<br>\n",
      "for $x\\in N \\cup \\{0\\}$ , $F(x-1)=1-(1-p)^x $<br>\n",
      "$\\Rightarrow P(\\mathcal{X}\\leq x)=1-P(\\mathcal{X} < x )=1-P(\\mathcal{X}\\leq x-1) = 1-F(x-1) = (1-p)^x$ <br>\n",
      "<br>\n",
      "<font color='blue'>\n",
      "\u5e7e\u4f55\u96a8\u6a5f\u8b8a\u6578\u53ef\u8996\u70ba\u5728\u4e00\u500b\u6210\u529f\u7387\u70ba$p$\u7684Bernoulli\u8a66\u9a57\u4e2d\uff0c\u5931\u6557\u76f4\u5230\u67d0\u6b21\u6210\u529f\u7684\u6a5f\u7387\u6709\u591a\u5c11<br>\n",
      "\u5931\u65570\u6b21\u4fbf\u6210\u529f\u7684\u6a5f\u7387\u70ba$P(\\mathcal{X}=0)=f(0)=p(1-p)^0=p$\uff0c\u5931\u6557t\u6b21\u624d\u6210\u529f\u7684\u6a5f\u7387\u70ba$P(\\mathcal{X}=t)=f(t)=p(1-p)^t$<br>\n",
      "\u5728\u7b2c$t+1$\u6b21\u4ee5\u524d\u6210\u529f\u7684\u6a5f\u7387\u70ba$P(\\mathcal{X}=0)+P(\\mathcal{X}=1)+...+P(\\mathcal{X}=t)=\\sum^{[t]}_{x=0}p(1-p)^x=F(t)$<br>\n",
      "\u5728\u300c\u7b2c$t+1$\u6b21\u4ee5\u524d\u6210\u529f\u300d\u7b49\u50f9\u65bc\u300c\u9019$t+1$\u6b21\u4e0d\u5168\u70ba\u5931\u6557\u300d\uff0c\u56e0\u6b64\u5e7e\u4f55\u5206\u914d\u7684\u5206\u914d\u51fd\u6578\uff0c\u53ef\u8996\u70ba\u4e0d\u5168\u70ba\u5931\u6557\u7684\u6a5f\u7387$1-(1-p)^{[t]+1}$<br>\n",
      "</font><br>\n",
      "(c)<br>\n",
      "\u56de\u61b6\u7b2c\u4e00\u7ae0\u63d0\u5230\u7684\u689d\u4ef6\u6a5f\u7387$P(A|B)=\\frac{P(A\\cap B)}{P(B)}$<br>\n",
      "\u540c\u7406$P(\\mathcal{X}> n+m | \\mathcal{X}>n)=\\frac{P(\\mathcal{X}>n+m,\\mathcal{X}>n)}{P(\\mathcal{X} > n)}$<br>\n",
      "\u300c\u5728$\\mathcal{X}$\u5927\u65bcn\u7684\u60c5\u6cc1\u4e0b\uff0c$\\mathcal{X}$\u5927\u65bcn+m\u7684\u6a5f\u7387\u300d\u5176\u5be6\u5c31\u662f\u300c$\\mathcal{X}$>m\u7684\u6a5f\u7387\u300d<br>\n",
      "\u56e0\u6b64$P(\\mathcal{X}> n+m | \\mathcal{X}>n)=\\frac{P(\\mathcal{X}>n+m)}{P(\\mathcal{X} > n)}=P(\\mathcal{X}>m)$<br>\n",
      "$\\Rightarrow P(\\mathcal{X}>n+m)=P(\\mathcal{X} > n) P(\\mathcal{X} > m) ... (\\star)$<br><br>\n",
      "\n",
      "(d)<br>\n",
      "$(\\star)$\u4ee3\u5165$n=m=0$\uff0c\u5247$P(\\mathcal{X}> 0)=P(\\mathcal{X}>0)P(\\mathcal{X}>0) \\Rightarrow P(\\mathcal{X}>0)=0,1$<br>\n",
      "\u56e0\u70ba$P(\\mathcal{X}=1)=p>0$\uff0c\u6240\u4ee5\u300c$P(\\mathcal{X}>0)=0$\u300d\u77db\u76fe $\\Rightarrow  P(\\mathcal{X}>0)=1$<br>\n",
      "\u56e0\u70ba$P(\\mathcal{X}>1)=P(\\mathcal{X}>0) - P(\\mathcal{X}=1)=1-p$<br>\n",
      "\u7531$(\\star)$\uff0c$P(\\mathcal{X}>2)=P(\\mathcal{X}>1) P(\\mathcal{X}>1)=(1-p)^2$<br>\n",
      "\u800c\u4e14$P(\\mathcal{X}>n+1) = P(\\mathcal{X}>n) P(\\mathcal{X}>1)=P(\\mathcal{X}>n)(1-p)$<br>\n",
      "\u6240\u4ee5$P(\\mathcal{X}>n)=(1-p)^n$ <br>\n",
      "\u53ef\u5f97\u51fa$P(\\mathcal{X}=n)=P(\\mathcal{X}>n-1)-P(\\mathcal{X}>n) = (1-p)^{n-1} - (1-p)^n = p(1-p)^{n-1}$<br>"
     ]
    },
    {
     "cell_type": "heading",
     "level": 2,
     "metadata": {},
     "source": [
      "#2.3 \u2014\u96e2\u6563\u96a8\u6a5f\u5411\u91cf"
     ]
    },
    {
     "cell_type": "markdown",
     "metadata": {},
     "source": [
      "\u4e4b\u524d\u6240\u63d0\u7684\u96a8\u6a5f\u8b8a\u6578\u53ea\u6709\u55ae\u8b8a\u6578\uff0c\u4f46\u6211\u5011\u4e5f\u53ef\u5728\u6a5f\u7387\u7a7a\u9593\u4e2d\u5b9a\u7fa9\u591a\u8b8a\u6578\u7684\u96a8\u6a5f\u8b8a\u6578$\\mathcal{X}$\uff0c\u4e26\u4ee5$\\mathcal{X}=(\\mathcal{X}_1,\\mathcal{X}_2,...,\\mathcal{X}_r)$\u8868\u793a\uff0c\u5176\u4e2d$\\mathcal{X}_1,\\mathcal{X}_2,...,\\mathcal{X}_r$\u70ba$r$\u500b\u5728$(\\Omega,\\mathcal{A},P)$\u4e0a\u7684\u96a8\u6a5f\u8b8a\u6578\u3002<br>\n",
      "\u4eca\u6709\u4e00\u6a23\u672c\u9ede\u70ba$w=x=(x_1,x_2,...,x_r)$ \uff0c\u5247$\\mathcal{X}(w)=(\\mathcal{X}_1(w),...,\\mathcal{X}_r(w))$<br>\n",
      "$f(x)=P(\\mathcal{X}=x),x \\in R^r \\Rightarrow f(x_1,x_2,...,x_r)=P(\\mathcal{X}_1=x_1,...,\\mathcal{X}_r=x_r)$ <br>\n",
      "\u82e5\u67d0\u4e8b\u4ef6$A$\u4e0d\u53ea\u5305\u542b\u4e00\u9ede\uff0c\u5247\u5beb\u4f5c$P(\\mathcal{X} \\in A ) =\\sum_{x \\in A} f(x)$ <br>"
     ]
    },
    {
     "cell_type": "markdown",
     "metadata": {},
     "source": [
      "<font color='green'>\n",
      "Def.2-7\uff1aA <font color='red'>discrete r-dimensional random vector</font> $\\mathcal{X}$ is a function $\\mathcal{X}$ from $\\Omega$ to $R^r$ taking on a finite or countably infinite number of values $x_1,x_2,...$ such that $\\{w|\\mathcal{X}(w)=x_i\\}$ is an event for all $i$ \u3002\n",
      "\n",
      "</font>"
     ]
    },
    {
     "cell_type": "markdown",
     "metadata": {},
     "source": [
      "\u8b80\u8005\u53ef\u81ea\u884c\u9a57\u8b49N\u7dad\u5ea6\u7684\u96a8\u6a5f\u8b8a\u6578\u4e5f\u5177\u6709\u96a8\u6a5f\u8b8a\u6578\u7684\u4e09\u500b\u6027\u8cea\uff01<br>\n",
      "(i)$f(x) \\geq 0 , x \\in R^r.$ <br>\n",
      "(ii)$\\{x|f(x)\\not = 0\\}$ is a finite or countably infinite subset of R^r, which will be denoted by $\\{x_1,x_2,...\\}$<br>\n",
      "(iii)$\\sum_i f(x_i)=1$<br>"
     ]
    },
    {
     "cell_type": "markdown",
     "metadata": {},
     "source": [
      "<font color='blue'>\n",
      "Example.2-8\uff1a\u4ee4$\\mathcal{X}$\u548c$\\mathcal{Y}$\u662f\u5169D.R.V.\uff0c\u5c0d\u65bc\u6240\u6709\u5be6\u6578$x,y\\in \\{x_1,x_2,...\\}$\uff0c\u96c6\u5408$\\{w|\\mathcal{X}(w)=x , \\mathcal{Y}(w)=y\\}$\u662f\u4e00\u500b\u4e8b\u4ef6<br>\n",
      "\u6211\u5011\u7c21\u8a18\u70ba$\\{\\mathcal{X}=x,\\mathcal{Y}=y\\}$ \u6216$\\{\\mathcal{X}=x \\wedge \\mathcal{Y}=y\\}$<br>\n",
      "\u5047\u8a2d$\\mathcal{X}$\u4e2d\u6240\u6709\u53ef\u80fd\u7684\u503c\u70ba$\\{x_1,x_2,...\\}$ ; $\\mathcal{Y}$\u4e2d\u6240\u6709\u53ef\u80fd\u7684\u503c\u70ba$\\{y_1,y_2,...\\}$ <br>\n",
      "\u5247\u67d0\u6a23\u672c\u9ede$(x_i,y_j)\u7684\u6a5f\u7387\u4ee5f_{\\mathcal{X},\\mathcal{Y}}(x_i,y_j)=P(\\mathcal{X}=x_i,\\mathcal{Y}=y_j)$\u8868\u793a<br>\n",
      "\u4e14$f_\\mathcal{X}(x)=P(\\mathcal{X}=x)=P(\\cup_j (\\mathcal{X}=x,\\mathcal{Y}=y_j) ) = \\sum_j P(\\mathcal{X}=x,\\mathcal{Y}=y_j)=\\sum_y P(\\mathcal{X}=x,\\mathcal{Y}=y)$<br>\n",
      "\u540c\u7406$f_\\mathcal{Y}(y)=P(\\mathcal{Y}=y)=\\sum_x P(\\mathcal{X}=x,\\mathcal{Y}=y)$\n",
      "</font>"
     ]
    },
    {
     "cell_type": "markdown",
     "metadata": {},
     "source": [
      "<font color='blue'>\n",
      "Example.2-9\uff1a\u4ee4$\\mathcal{X}$\u548c$\\mathcal{Y}$\u662f\u5169D.R.V.\u4f7f\u5f97\u503c$x=\\{1,2\\}$\u548c$y=\\{1,2,3,4\\}$\u662f\u4e8b\u4ef6\uff0c\u4e14\u5176\u6a5f\u7387\u5982\u4e0b\u8868\uff0c\u8a66\u7b97(a)$f_\\mathcal{X}(1)$ (b)$f_\\mathcal{Y}(3)$ (c)$f_{\\mathcal{X},\\mathcal{Y}}(1,3)$<br>\n",
      "$$\n",
      "\\begin{array}{clcr}\n",
      "  & y & 1 & 2 & 3 & 4 \\\\\n",
      "x &|&\u2014&\u2014&\u2014&\u2014\\\\\n",
      "1 &|& \\frac{1}{4}&\\frac{1}{8}&\\frac{1}{16}&\\frac{1}{16} \\\\\n",
      "2 &|&\\frac{1}{16}&\\frac{1}{16}&\\frac{1}{4}&\\frac{1}{8} \\\\\n",
      "\\end{array}\n",
      "$$\n",
      "</font>\n",
      "Sol\uff1a<br>\n",
      "(a)$f_\\mathcal{X}(1)=\\frac{1}{4}+\\frac{1}{8}+\\frac{1}{16}+\\frac{1}{16}=\\frac{1}{2}$<br>\n",
      "(b)$f_\\mathcal{Y}(3)=\\frac{1}{16}+\\frac{1}{4}=\\frac{5}{16}$<br>\n",
      "(c)$f_{\\mathcal{X},\\mathcal{Y}}(1,3)=\\frac{1}{16}$ <br>\n",
      "<br>\n",
      "\u7531\u6b64\u4f8b\u5b50\u4e2d\u53ef\u770b\u51fa$f_{\\mathcal{X},\\mathcal{Y}}(1,3)=\\frac{1}{16}$ \u4f46$f_\\mathcal{X}(1) f_\\mathcal{Y}(3) = (\\frac{1}{2})(\\frac{5}{16})=\\frac{5}{32}$<br>\n",
      "\u4e5f\u5c31\u662f\u8aaa\uff0c$f_{\\mathcal{X},\\mathcal{Y}}(1,3) \\not = f_\\mathcal{X}(1) f_\\mathcal{Y}(3) $<br>\n",
      "\u56de\u9867\u4e4b\u524d\u7368\u7acb\u7684\u5b9a\u7fa9$P(A\\cap B) = P(A)P(B)$ \u6216\u8005$P(A|B)=P(A)$<br>\n",
      "\u56e0\u6b64\u672c\u4f8b\u4e2d\u4e4b$\\mathcal{X},\\mathcal{Y}$\u70ba\u5169\u500b\u4e0d\u4e92\u76f8\u7368\u7acb\u7684R.V.<br>"
     ]
    },
    {
     "cell_type": "heading",
     "level": 2,
     "metadata": {},
     "source": [
      "#2.4 \u2014\u7368\u7acb\u96a8\u6a5f\u8b8a\u6578"
     ]
    },
    {
     "cell_type": "markdown",
     "metadata": {},
     "source": [
      "\u5982\u540c\u4e4b\u524d\u6240\u8aaa\uff0c\u8a31\u591a\u96a8\u6a5f\u8b8a\u6578$\\mathcal{X}_1 , ... , \\mathcal{X}_r$ \u7684<font color='red'>\u806f\u5408\u6a5f\u7387\u5bc6\u5ea6\u51fd\u6578(Joint Density)</font> $f$ <br>\n",
      "\u5beb\u4f5c$f_\\mathcal{X} (x) = f_{\\mathcal{X}_1,...,\\mathcal{X}_r} (x_1,...,x_r)=P(\\mathcal{X}_1=x_1,...,\\mathcal{X}_r=x_r)$<br>\n",
      "\u5982\u679c$\\mathcal{X}_1 , ... , \\mathcal{X}_r$ \u4e92\u76f8\u7368\u7acb\uff0c\u6839\u64da\u7b2c\u4e00\u7ae0\u7684\u5b9a\u7fa9\uff0c\u53ef\u5f97$f_\\mathcal{X} (x) =P(\\mathcal{X}_1=x_1)P(\\mathcal{X}_2 = x_2) ... P(\\mathcal{X}_r=x_r) = f_{\\mathcal{X} _1} (x_1) ... f_{\\mathcal{X}_r} (x_r)$<br>"
     ]
    },
    {
     "cell_type": "markdown",
     "metadata": {},
     "source": [
      "<font color='green'>\n",
      "Def.2-10\uff1aLet $\\mathcal{X}_1 , ... , \\mathcal{X}_r$ be $r$ discrete random variables having densities $f_1,...,f_r$ respectively <br>\n",
      "These variables are said to be <font color='red'>mutually independent(\u4e92\u76f8\u7368\u7acb) </font> if their joint density function $f$ is given by $f(x)=f_1(x_1)f_2(x_2)...f_r(x_r)$ <br>\n",
      "</font>"
     ]
    },
    {
     "cell_type": "markdown",
     "metadata": {},
     "source": [
      "<font color='blue'>\n",
      "Example.2-11\uff1aLet $\\mathcal{X} \\sim G(p) , \\mathcal{Y} \\sim G(p)$ \uff0cand they are independent<br>\n",
      "(a) Find the distribution of $min(\\mathcal{X},\\mathcal{Y})$  (b) Find $P(min(\\mathcal{X},\\mathcal{Y})=\\mathcal{X})=P(\\mathcal{Y} \\geq \\mathcal{X})$<br>\n",
      "</font>\n",
      "Sol:<br>\n",
      "(a)<br>\n",
      "$\\mathcal{X},\\mathcal{Y} \\sim G(p) \\Rightarrow P(\\mathcal{X}=x)=p(1-p)^x , P(\\mathcal{Y}=y)=p(1-p)^y$ <br>\n",
      "\u70ba\u4e86\u627e\u5230 $min(\\mathcal{X},\\mathcal{Y})$ \u7684\u5206\u914d\uff0c\u8a08\u7b97$P(min(\\mathcal{X},\\mathcal{Y})\\leq z) = 1-P(min(\\mathcal{X},\\mathcal{Y})\\geq z)$<br>\n",
      "\u56e0\u70ba$P(min(\\mathcal{X},\\mathcal{Y})\\geq z)=P(\\mathcal{X}\\geq z , \\mathcal{Y} \\geq z )$<br>\n",
      "\u7531\u7368\u7acb\u6027\u5f97\u77e5$P(\\mathcal{X}\\geq z , \\mathcal{Y} \\geq z )=P(\\mathcal{X}\\geq z)P(\\mathcal{Y}\\geq z)$<br>\n",
      "\u7531Example.2-6(b)\u5f97\u77e5$P(\\mathcal{X}\\geq z)P(\\mathcal{Y}\\geq z)=(1-p)^z (1-p)^z=(1-p)^{2z}$<br>\n",
      "\u56e0\u6b64$F_{min(\\mathcal{X},\\mathcal{Y})}(z) = P(min(\\mathcal{X},\\mathcal{Y})\\leq z ) =1-(1-p)^{2z} \\Rightarrow min(\\mathcal{X},\\mathcal{Y}) \\sim G(1-(1-p)^2)$<br>\n",
      "$\\Rightarrow min(\\mathcal{X},\\mathcal{Y}) \\sim G(2p-p^2)$<br>\n",
      "(b)<br>\n",
      "$P(\\mathcal{Y}\\geq \\mathcal{X}) =\\sum^\\infty_{x=0} P(\\mathcal{X}=x,\\mathcal{Y}\\geq x )= \\sum^\\infty_{x=0} P(\\mathcal{X}=x)P(\\mathcal{Y}\\geq x )=\\sum^\\infty_{x=0}p(1-p)^x(1-p)^x$<br>\n",
      "$\\Rightarrow P(\\mathcal{Y}\\geq \\mathcal{X}) = p \\sum^\\infty_{x=0} (1-p)^{2x} = p (\\frac{1}{1-(1-p)^2}) = \\frac{p}{2p-p^2}$<br>\n",
      "<br>\n",
      "\u6ce8\u610f$P(min(\\mathcal{X},\\mathcal{Y})=\\mathcal{X}) \\not = P(min(\\mathcal{X},\\mathcal{Y})=x)=p(2-p)(1-p)^{2x}$"
     ]
    },
    {
     "cell_type": "markdown",
     "metadata": {},
     "source": [
      "\u7d66\u4e00\u4e9b\u7368\u7acb\u7684\u96a8\u6a5f\u8b8a\u6578\uff0c\u53ef\u4ee5\u5229\u7528\u9019\u4e9b\u96a8\u6a5f\u8b8a\u6578\u5275\u9020\u65b0\u7684\u5206\u914d<br>\n",
      "\u5176\u4e2d\u53c8\u4ee5<font color='red'>I.I.D.(Independent Identically Distributed)</font>\u7684\u8a0e\u8ad6\u6700\u70ba\u5e38\u898b\uff0c\u63a5\u4e0b\u4f86\u770b\u5169\u500b\u4f8b\u5b50\u3002<br>\n",
      "<br>\n",
      "<font color='green'>\n",
      "Def.2-12\uff1a\n",
      "Let $\\mathcal{X}_1,...,\\mathcal{X}_r$ be $r$ R.V. \uff0ctheir joint R.V. $\\mathcal{X}$ is called <font color='red'>The Multinomial Distribution(\u591a\u91cd\u5e38\u614b\u5206\u4f48)</font><br>\n",
      "if $f_\\mathcal{X}(x)=f_\\mathcal{X}(x_1,...,x_r)=(\\frac{n!}{(x_1)!(x_2)!...(x_r)!}){p_1}^{x_1}{p_2}^{x_2}...{p_r}^{x_r},\\sum^r_{i=1} x_i=n , x_i\\geq 0$<br>\n",
      "and $f_\\mathcal{X}(x)=0 , otherwise$\u3002 <br>\n",
      "Denoted by $M(n;p_1,p_2,...,p_r)$<br>\n",
      "</font>"
     ]
    },
    {
     "cell_type": "markdown",
     "metadata": {},
     "source": [
      "<font color='blue'>\n",
      "Example.2-13\uff1a<br>\n",
      "Poisson approximation to the Binomial distribution <br>\n",
      "<br>\n",
      "\u4ee4$S_n \\sim B(n,p_n) \\Rightarrow P((S_n)=k)=\\binom{n}{k} (p_n)^k(1-p_n)^{n-k}$ <br>\n",
      "\u73fe\u5728\u5047\u8a2d$P_n=\\frac{\\lambda}{n}$<br>\n",
      "$\\Rightarrow P(S_n=k)=\\frac{\\lambda^k}{n^k} \\binom{n}{k} (1-\\frac{\\lambda}{n})^{n-k}=\\frac{\\lambda^k n!} {n^k k! (n-k)!} (1-\\frac{\\lambda}{n})^n(1-\\frac{\\lambda}{n})^{-k}$ <br>\n",
      "\u7576$n \\rightarrow \\infty  \\Rightarrow \\frac{n!}{n^k(n-k)!} \\rightarrow 1 , (1-\\frac{\\lambda}{n})^n \\rightarrow e^{-\\lambda} , (1-\\frac{\\lambda}{n})^{-k} \\rightarrow 1$<br>\n",
      "\u6240\u4ee5$\\lim_{n \\rightarrow \\infty} \\binom{n}{k} (p_n)^k (1-p_n)^{n-k}=\\frac{\\lambda^k}{k!} e^{-\\lambda} ... (\\star)$<br>\n",
      "\u56e0\u70ba$np_n\\rightarrow \\lambda  ,n \\rightarrow \\infty $ , $(\\star)$ \u770b\u8d77\u4f86\u5c31\u76f8\u7576\u5408\u7406\u3002<br>\n",
      "</font>"
     ]
    },
    {
     "cell_type": "heading",
     "level": 2,
     "metadata": {},
     "source": [
      "#2.5 \u2014\u4f2f\u52aa\u5229\u8a66\u9a57\u7684\u7121\u9650\u5e8f\u5217"
     ]
    },
    {
     "cell_type": "markdown",
     "metadata": {},
     "source": [
      "<font color='red'>\u4f2f\u52aa\u5229\u5206\u4f48(Bernoulli's distributions)</font> \u5176\u5be6\u5c31\u662f\u53c3\u6578\u70ba$(1,p)$\u7684\u4e8c\u9805\u5206\u4f48<br>\n",
      "i.e.,$\\mathcal{X} \\sim B(1,p)$<br>\n",
      "\u53ef\u4ee5\u770b\u6210\u505a\u4e00\u4ef6\u4e8b\u60c5\u6210\u529f\u7684\u6a5f\u7387\u70ba$p$,\u5931\u6557\u7684\u6a5f\u7387\u70ba$(1-p)$<br>\n",
      "\u800c\u4e14\u6bcf\u6b21\u5617\u8a66\u7684\u6a5f\u7387\u90fd\u4e0d\u8b8a<br>\n",
      "\n",
      "\u5047\u8a2d$(\\mathcal{X}_n)_{n\\geq 1}$ I.I.D. \u4e26\u6709$B(1,p)$\u5206\u4f48<br>\n",
      "\u4ee4$w_1$\u4ee3\u8868\u8a66\u9a57\u76f4\u5230\u7b2c\u4e00\u6b21\u6210\u529f\u7684\u8a66\u9a57\u6b21\u6578\uff0c\u4e26\u4e14\u5047\u8a2d\u70ba\u7b2cn\u6b21\u6642\u6210\u529f<br>\n",
      "\u5247\u53ef\u5f97\u51fa\u7b2c$n$\u6b21\u624d\u7b2c\u4e00\u6b21\u6210\u529f\u7684\u6a5f\u7387\u70ba$P(w_1=n)=P(\\mathcal{X}_1=0,\\mathcal{X}_2=0,...,\\mathcal{X}_n=1)$<br>\n",
      "\u56e0\u70ba\u6bcf\u4e00\u6b21\u8a66\u9a57\u5747\u70ba\u7368\u7acb\u4e8b\u4ef6$\\Rightarrow P(w_1=n)=\\sum^{n-1}_{i=1} P(\\mathcal{X}_i=0) P(\\mathcal{X}_n=1)=(1-p)^{n-1}p$<br>\n",
      "$\\Rightarrow P(w_1-1=n)=p(1-p)^n , w_1-1 \\sim G(p)$\n",
      "\n",
      "\u4ee4$T_r$\u4ee3\u8868\u76f4\u5230\u7b2c$r$\u6b21\u6210\u529f\u7684\u8a66\u9a57\u6b21\u6578\uff0c\u4e26\u4ee4\u8a72\u6b21\u6578\u70ban\uff0c\u4e5f\u5c31\u662f\u8aaa$T_r=\\{\\mathcal{X}_1+...+\\mathcal{X}_{n-1}=r-1\\} \\cap \\{\\mathcal{X}_n=1\\}$<br>\n",
      "\u56e0\u70ba\u9019\u5169\u500b\u4e8b\u4ef6\u7368\u7acb\uff0c\u56e0\u6b64\u53ef\u5f97\u51fa$P(T_r=n)=P(\\mathcal{X}_1+...+\\mathcal{X}_{n-1}=r-1)+P(\\mathcal{X}_n=1)$ <br>\n",
      "$\\Rightarrow P(T_r=n)=\\binom{n-1}{r-1}p^{r-1}(1-p)^{n-r}p = \\binom{n-1}{r-1}p^r(1-p)^{n-r}$ <br>\n",
      "$\\Rightarrow P(T_r-r=n)=\\binom{r+n-1}{r-1}p^r(1-p)^n,T_r-r \\sim NB(r,p) \\Rightarrow T_r-r = (w_1-1)+(w_2-2)+...+(w_r-r)$"
     ]
    },
    {
     "cell_type": "markdown",
     "metadata": {},
     "source": [
      "\u6574\u7406\u4ee5\u4e0a\u8a0e\u8ad6\uff0c\u5f97\u51fa\u4ee5\u4e0b\u6027\u8cea\uff1a<br>\n",
      "<font color='red'>\n",
      "Property.2-14\uff1a<br>\n",
      "\u5982\u679c$(\\mathcal{X}_i)^n_i \\sim G(p)$ I.I.D. , \u5247$S_n=\\sum^n_{i=1}(\\mathcal{X}_i) \\sim NB(n,p)$\n",
      "</font>"
     ]
    },
    {
     "cell_type": "heading",
     "level": 2,
     "metadata": {},
     "source": [
      "#2.6 \u2014\u7368\u7acb\u96a8\u6a5f\u8b8a\u6578\u7684\u548c"
     ]
    },
    {
     "cell_type": "markdown",
     "metadata": {},
     "source": [
      "\u4ee4$\\mathcal{X}$\u548c$\\mathcal{Y}$\u662f\u5169\u500b\u7368\u7acb\u7684\u96a8\u6a5f\u8b8a\u6578\uff0c$\\{x_1,x_2,...\\}$\u662f$\\mathcal{X}$\u7684\u503c<br>\n",
      "\u90a3\u9ebc\u4e8b\u4ef6$\\{\\mathcal{X}+\\mathcal{Y}=z\\},z \\in R$ \u53ef\u4ee5\u770b\u6210\u4e8b\u4ef6$\\bigcup_i\\{\\mathcal{X}=x_i,\\mathcal{Y}=z-x_i\\}$<br>\n",
      "\u56e0\u70ba$\\mathcal{X}=x_i$ \u548c $\\mathcal{Y}=z-x_i$ \u662f\u4e92\u65a5\u7684\u96c6\u5408<br>\n",
      "\u4e8b\u4ef6$\\{\\mathcal{X}+\\mathcal{Y}=z\\}$\u7684\u6a5f\u7387$P(\\mathcal{X}+\\mathcal{Y}=z)=\\sum_iP(\\mathcal{X}=x_i,\\mathcal{Y}=z-x_i)=\\sum_iP(\\mathcal{X}=x_i)P(\\mathcal{Y}=z-x_i)=\\sum_i f_\\mathcal{X}(x_i) f_\\mathcal{Y}(z-x_i)$<br>\n",
      "$\\Rightarrow f_{\\mathcal{X}+\\mathcal{Y}}(z)=\\sum_x f_\\mathcal{X}(x) f_\\mathcal{Y}(z-x)$<br>"
     ]
    },
    {
     "cell_type": "markdown",
     "metadata": {},
     "source": [
      "<font color='green'>\n",
      "Def.2-15\uff1aLet $\\mathcal{X}$ be a nonnegative integer-valued random variable , <br>\n",
      "<font color='red'>The probability generating function (\u6a5f\u7387\u751f\u6210\u51fd\u6578) </font> $\\Phi_\\mathcal{X}$ of $\\mathcal{X}$ is defined as $\\Phi_\\mathcal{X}=\\sum^\\infty_{x=0}P(\\mathcal{X}=x)t^x = \\sum^\\infty_{x=0}f_\\mathcal{X}(x)t^x,-1\\leq t \\leq 1$<br> \n",
      "</font>"
     ]
    },
    {
     "cell_type": "markdown",
     "metadata": {},
     "source": [
      "<font color='blue'>\n",
      "Example.2-16\uff1aLet $\\mathcal{X} \\sim B(n,p)$ find $\\Phi_\\mathcal{X}(t)$\n",
      "</font><br>\n",
      "Sol\uff1a<br>\n",
      "$P(\\mathcal{X}=x)=\\binom{n}{k}p^x(1-p)^{n-x}$<br>\n",
      "$\\Phi_\\mathcal{X}(t)=\\sum^n_{x=0} P(\\mathcal{X}=x)t^x=\\sum^n_{x=0} \\binom{n}{x}(pt)^x(1-p)^{n-x}$<br>\n",
      "\u7531\u4e8c\u9805\u5206\u914d\u5b9a\u7406$\\Rightarrow \\sum^n_{x=0} \\binom{n}{x}(pt)^x(1-p)^{n-x}=(pt+(1-p))^n$<br>"
     ]
    },
    {
     "cell_type": "markdown",
     "metadata": {},
     "source": [
      "<font color='blue'>\n",
      "Example.2-17\uff1aLet $\\mathcal{X} \\sim NB(\\alpha,p)$ find $\\Phi_\\mathcal{X}(t)$\n",
      "</font><br>\n",
      "Sol\uff1a<br>\n",
      "$P(\\mathcal{X}=x)=p^\\alpha \\binom{-\\alpha}{x}(-1)^x(1-p)^x$<br>\n",
      "$\\Phi_\\mathcal{X}(t)=\\sum^\\infty_{x=0} P(\\mathcal{X}=x)t^x=\\sum^\\infty_{x=0} p^\\alpha \\binom{-\\alpha}{x}(-1)^x(1-p)^x t^x=p^\\alpha \\sum^\\infty_{x=0}  \\binom{-\\alpha}{x}(-t(1-p))^x$<br>\n",
      "\u56e0\u70ba$(1+s)^{-\\alpha} = \\sum^\\infty_{x=0} \\binom{-\\alpha}{x}s^x$<br>\n",
      "\u6240\u4ee5$p^\\alpha \\sum^\\infty_{x=0}  \\binom{-\\alpha}{x}(-t(1-p))^x=p^\\alpha (\\frac{1}{1-t(1-p)})^\\alpha$<br>\n"
     ]
    },
    {
     "cell_type": "markdown",
     "metadata": {},
     "source": [
      "<font color='blue'>\n",
      "Example.2-18\uff1aLet $\\mathcal{X} \\sim P(\\lambda)$ find $\\Phi_\\mathcal{X}(t)$\n",
      "</font><br>\n",
      "Sol\uff1a<br>\n",
      "$P(\\mathcal{X}=x)=\\frac{e^{-\\lambda} \\lambda^x}{x!}$<br>\n",
      "$\\Phi_\\mathcal{X}(t)=\\sum^n_{x=0} P(\\mathcal{X}=x)t^x=e^{-\\lambda}\\sum^\\infty_{x=0} \\frac{(\\lambda t)^x}{x!}=e^{-\\lambda} e^{\\lambda t} =e^{\\lambda(t-1)}$<br>"
     ]
    },
    {
     "cell_type": "markdown",
     "metadata": {},
     "source": [
      "\u6709\u4e86P.G.F.\u5f8c\uff0c\u8981\u8b49\u660e\u5169\u500bR.V. $\\mathcal{X},\\mathcal{Y}$\u76f8\u7b49\uff0c\u53ea\u9808\u8b49\u660e\u5169R.V.\u7684P.G.F.\u76f8\u7b49<br>\n",
      "\u53cd\u4e4b\u82e5\u5169R.V.\u7684P.G.F.\u76f8\u7b49\uff0c\u5247$\\mathcal{X},\\mathcal{Y}$\u6709\u76f8\u540c\u7684\u6a5f\u7387\u5206\u4f48\u3002<br>\n",
      "<br>\n",
      "<font color='red'>\n",
      "Property.2-19\uff1a<br>\n",
      "$\\Phi_{\\mathcal{X}+\\mathcal{Y}}(t)=\\Phi_\\mathcal{X}(t)\\Phi_\\mathcal{Y}(t)$<br>\n",
      "\u5229\u7528\u6578\u5b78\u6b78\u7d0d\u6cd5\uff0c\u5982\u679c\u6709$r$\u500bR.V.<br>\n",
      "\u5f97\u51fa$\\Phi_{\\mathcal{X}_1+...+\\mathcal{X}_r}(t)=\\Phi_{\\mathcal{X}_1}(t)...\\Phi_{\\mathcal{X}_r}(t)$<br>\n",
      "</font>"
     ]
    },
    {
     "cell_type": "markdown",
     "metadata": {},
     "source": [
      "<font color='blue'>\n",
      "Theorem.2-20\uff1a<br>\n",
      "Let $(\\mathcal{X}_n)^r_{n=1}$ be I.I.D. Then\uff1a<br>\n",
      "(i)If $\\mathcal{X}_i \\sim B(n_i,p)$ , then $S_r=\\mathcal{X}_1+\\mathcal{X}_2+...+\\mathcal{X}_r \\sim B(n_1+n_2+...+n_r,p)$<br>\n",
      "(ii)If $\\mathcal{X}_i \\sim NB(\\alpha_i,p)$ , then $S_r=\\mathcal{X}_1+\\mathcal{X}_2+...+\\mathcal{X}_r \\sim NB(\\alpha_1+\\alpha_2+...+\\alpha_r,p)$<br>\n",
      "(iii)If $\\mathcal{X}_i \\sim P(\\lambda_i)$ , then $S_r=\\mathcal{X}_1+\\mathcal{X}_2+...+\\mathcal{X}_r \\sim P(\\lambda_1+\\lambda_2+...+\\lambda_r)$<br>\n",
      "</font><br>\n",
      "Sol\uff1a<br>\n",
      "(i)<br>\n",
      "Since $\\Phi_{S_r}(t)=\\Phi_{\\mathcal{X}_1}(t)\\Phi_{\\mathcal{X}_2}(t)...\\Phi_{\\mathcal{X}_r}(t)=(pt+1-p)^{n_1}(pt+1-p)^{n_2}...(pt+1-p)^{n_r}=(pt+1-p)^{n_1+...+n_r}$<br>\n",
      "$\\Rightarrow S_r \\sim B(n=n_1+n_2+...+n_r,p)$<br>\n",
      "(ii)<br>\n",
      "Since $\\Phi_{S_r}(t)=\\Phi_{\\mathcal{X}_1}(t)\\Phi_{\\mathcal{X}_2}(t)...\\Phi_{\\mathcal{X}_r}(t)=p^{\\alpha_1} (\\frac{1}{1-t(1-p)})^{\\alpha_1}p^{\\alpha_2} (\\frac{1}{1-t(1-p)})^{\\alpha_2}...p^{\\alpha_r} (\\frac{1}{1-t(1-p)})^{\\alpha_r}=p^{\\alpha_1+\\alpha_2+...+\\alpha_r} (\\frac{1}{1-t(1-p)})^{\\alpha_1+\\alpha_2+...+\\alpha_r}$<br>\n",
      "$\\Rightarrow S_r \\sim NB(n=n_1+n_2+...+n_r,p)$<br>\n",
      "(iii)<br>\n",
      "Since $\\Phi_{S_r}(t)=\\Phi_{\\mathcal{X}_1}(t)\\Phi_{\\mathcal{X}_2}(t)...\\Phi_{\\mathcal{X}_r}(t)=e^{\\lambda_1(t-1)}e^{\\lambda_2(t-1)}...e^{\\lambda_r(t-1)}=e^{(\\lambda_1+\\lambda_2+...+\\lambda_r)(t-1)}$<br>\n",
      "$\\Rightarrow S_r \\sim P(\\lambda_1+\\lambda_2+...+\\lambda_r)$<br>"
     ]
    },
    {
     "cell_type": "heading",
     "level": 6,
     "metadata": {},
     "source": [
      "\u3000\u3000This note written by HyperError"
     ]
    }
   ],
   "metadata": {}
  }
 ]
}