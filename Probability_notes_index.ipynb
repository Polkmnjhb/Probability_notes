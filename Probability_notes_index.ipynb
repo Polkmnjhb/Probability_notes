{
 "metadata": {
  "name": ""
 },
 "nbformat": 3,
 "nbformat_minor": 0,
 "worksheets": [
  {
   "cells": [
    {
     "cell_type": "markdown",
     "metadata": {},
     "source": [
      "#Chapter00-\u524d\u8a00\u8207\u7c21\u4ecb"
     ]
    },
    {
     "cell_type": "markdown",
     "metadata": {},
     "source": [
      "#Chapter01-\u6a5f\u7387\u7a7a\u9593(Probability Space)"
     ]
    },
    {
     "cell_type": "markdown",
     "metadata": {},
     "source": [
      "#Chapter02-\u96e2\u6563\u96a8\u6a5f\u8b8a\u6578(Discrete Random Variables)"
     ]
    },
    {
     "cell_type": "markdown",
     "metadata": {},
     "source": [
      "#Chapter03-\u96e2\u6563\u96a8\u6a5f\u8b8a\u6578\u7684\u671f\u671b\u503c"
     ]
    },
    {
     "cell_type": "markdown",
     "metadata": {},
     "source": [
      "#Chapter04-\u9023\u7e8c\u578b\u96a8\u6a5f\u8b8a\u6578(Continuous Random Variables)"
     ]
    },
    {
     "cell_type": "markdown",
     "metadata": {},
     "source": [
      "#Chapter05-\u806f\u5408\u5206\u914d\u96a8\u6a5f\u8b8a\u6578(Jointly Distributed Random Variables)"
     ]
    },
    {
     "cell_type": "markdown",
     "metadata": {},
     "source": [
      "#Chapter06-\u9023\u7e8c\u96a8\u6a5f\u8b8a\u6578\u7684\u671f\u671b\u503c"
     ]
    },
    {
     "cell_type": "markdown",
     "metadata": {},
     "source": [
      "#Chapter07-\u5176\u4ed6\u76f8\u95dc\u91cd\u8981\u5b9a\u7406"
     ]
    },
    {
     "cell_type": "code",
     "collapsed": false,
     "input": [],
     "language": "python",
     "metadata": {},
     "outputs": []
    }
   ],
   "metadata": {}
  }
 ]
}