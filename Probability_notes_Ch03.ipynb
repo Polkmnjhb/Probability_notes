{
 "metadata": {
  "name": ""
 },
 "nbformat": 3,
 "nbformat_minor": 0,
 "worksheets": [
  {
   "cells": [
    {
     "cell_type": "heading",
     "level": 1,
     "metadata": {},
     "source": [
      "<font color='red'>#Ch03-\u300c\u96e2\u6563\u96a8\u6a5f\u8b8a\u6578\u7684\u671f\u671b\u503c(Expectation)\u300d</font>"
     ]
    },
    {
     "cell_type": "heading",
     "level": 2,
     "metadata": {},
     "source": [
      "#3.1\u2014\u5b9a\u7fa9"
     ]
    },
    {
     "cell_type": "markdown",
     "metadata": {},
     "source": [
      "\u4ecb\u7d39\u671f\u671b\u503c\u4e4b\u524d\uff0c\u5148\u770b\u4e00\u500b\u4f8b\u5b50<br>\n",
      "\n",
      "<font color='blue'>\n",
      "Example.3-1\uff1a<br>\n",
      "\u73a9\u5bb6\u548c\u838a\u5bb6\u5404\u64f2\u4e00\u6b21\u516c\u6b63\u7684\u9ab0\u5b50(\u6bcf\u4e00\u9762\u51fa\u73fe\u6a5f\u7387\u5747\u7b49)\uff0c\u82e5\u73a9\u5bb6\u9ede\u6578\u5927\u65bc\u838a\u5bb6\u53ef\u5f97\u4e00\u5143\uff0c\u53cd\u4e4b\u5247\u7d66\u838a\u5bb6\u4e00\u5143\u3002<br>\n",
      "\u8a66\u554f\uff0c\u6709\u591a\u5c11\u6a5f\u7387\u73a9\u5bb6\u7372\u52dd\uff0c\u591a\u5c11\u6a5f\u7387\u838a\u5bb6\u7372\u52dd\uff1f<br>\n",
      "\u9019\u904a\u6232\u516c\u5e73\u55ce\uff1f\u4f60\u5982\u4f55\u5224\u65b7\uff1f<br>\n",
      "</font>\n",
      "Sol\uff1a<br>\n",
      "\u5982\u679c\u5c07\u6240\u6709\u53ef\u80fd\u7684\u7d50\u679c\u5217\u51fa\u4f86\uff0c36\u7a2e\u7d50\u679c\u4e2d\u670915\u7a2e\u662f\u73a9\u5bb6\u7372\u52dd\uff0c21\u7a2e\u662f\u838a\u5bb6\u7372\u52dd<br>\n",
      "\u56e0\u70ba\u5206\u4f48\u7b26\u5408\u4e00\u81f4\u5206\u4f48\uff0c\u6bcf\u4e00\u7a2e\u7d50\u679c\u7684\u53ef\u80fd\u6027\u90fd\u662f$\\frac{1}{36}$<br>\n",
      "\u56e0\u6b64\u73a9\u5bb6\u7372\u52dd\u7684\u6a5f\u7387$P(A)=\\frac{15}{36}$\uff0c\u838a\u5bb6\u7372\u52dd\u7684\u6a5f\u7387\u70ba$P(B)=\\frac{21}{36}$<br>\n",
      "\u300c\u5e73\u5747\u4f86\u8aaa\u300d\uff0c\u6bcf\u6b21\u904a\u6232\u73a9\u5bb6\u6703\u5f97\u5230$\\frac{15}{36} \\cdot 1 + \\frac{21}{36} \\cdot (-1) = \\frac{-5}{36}$\u5143<br>\n",
      "\u300c\u5e73\u5747\u4f86\u8aaa\u300d\uff0c\u73a9\u5bb6\u6bcf\u5b8c\u4e00\u6b21\u5c31\u6703\u5931\u53bb$\\frac{5}{36}$\u5143\uff0c\u56e0\u6b64\u5c0d\u73a9\u5bb6\u4e0d\u516c\u5e73\u3002<br>\n",
      "\n",
      "\u9019\u300c\u5e73\u5747\u4f86\u8aaa\u300d\uff0c\u5c31\u662f<font color='red'>\u671f\u671b\u503c(Expectation)</font>\u7684\u6982\u5ff5<br>\n",
      "\u4f60\u53ef\u4ee5\u628a\u4ed6\u60f3\u50cf\u6210\u4e00\u500b\u96a8\u6a5f\u8b8a\u6578\u7684\u52a0\u6b0a\u5e73\u5747\u6578<br>\n",
      "\u4ee5\u4e0a\u4f8b\u4f86\u8aaa<br>\n",
      "\u96a8\u6a5f\u8b8a\u6578$X=1$\u7684\u6a5f\u7387(\u52a0\u6b0a)\u70ba$\\frac{15}{36}$<br>\n",
      "\u96a8\u6a5f\u8b8a\u6578$X=-1$\u7684\u6a5f\u7387(\u52a0\u6b0a)\u70ba$\\frac{21}{36}$<br>\n",
      "\u96a8\u6a5f\u8b8a\u6578$X\\not =1,-1$\u7684\u6a5f\u7387(\u52a0\u6b0a)\u70ba0<br>\n",
      "$\\Rightarrow X$ \u7684\u52a0\u6b0a\u5e73\u5747\u5c31\u662f$\\frac{15}{36} \\cdot 1 + \\frac{21}{36} \\cdot (-1) = \\frac{-5}{36}$<br>"
     ]
    },
    {
     "cell_type": "markdown",
     "metadata": {},
     "source": [
      "<font color='green'>\n",
      "Def.3-2\uff1aLet $X$ be a D.R.V. with density f , define $E(X)=\\sum_j x_j f(x_j) $ , where $x_j$ is a number s.t. $f(x_j) \\not = 0$<br>\n",
      "$E(X)$ called the expectation of $X$ if  $\\sum_j |x_j| f(x_j) < + \\infty$ <br>\n",
      "On the other hand , if $\\sum_j |x_j| f(x_j) =  \\infty$ , then $X$ does not have finite expectation and $E(X)$ is undefined\u3002<br>\n",
      "</font>"
     ]
    },
    {
     "cell_type": "markdown",
     "metadata": {},
     "source": [
      "<font color='blue'>\n",
      "Example.3-3\uff1a<br>\n",
      "$X \\sim G(p)$ \uff0c $X$\u7684\u671f\u671b\u503c\u70ba\u4f55\uff1f<br>\n",
      "</font>\n",
      "Sol\uff1a<br>\n",
      "\u56e0\u70ba$X \\sim G(p)$\uff0c$f(x)=p(1-p)^x , x=0,1,2,3,...$<br>\n",
      "\u6309\u7167\u671f\u671b\u503c\u7684\u5b9a\u7fa9\uff0c$E(X)=\\sum_j x_j f(x_j) =\\sum_{j=0}^\\infty j p(1-p)^j =p(1-p) \\sum_{j=0}^\\infty j(1-p)^{j-1} $<br>\n",
      "\u56e0\u70ba$\\frac{d}{dp} (1-p)^j =-j(1-p)^{j-1}$ <br>\n",
      "\u6240\u4ee5 $E(X)=-p(1-p) \\sum_{j=0}^\\infty \\frac{d}{dp} (1-p)^j =-p(1-p) \\frac{d}{dp} (\\frac{1}{1-(1-p)})=\\frac{1-p}{p} $<br>"
     ]
    },
    {
     "cell_type": "markdown",
     "metadata": {},
     "source": [
      "<font color='blue'>\n",
      "Theorem.3-4\uff1a<br>\n",
      "\u4ee4$X,Y$\u70ba\u5169\u500b\u5b58\u5728\u6709\u9650\u671f\u671b\u503c(finite expectation)\u7684\u96a8\u6a5f\u8b8a\u6578\uff0c\u5247<br>\n",
      "(i)\u5982\u679c$c$\u662f\u4e00\u500b\u5e38\u6578\uff0c\u4e14$P(X=c)=1$ \uff0c\u5247$E(X)=c$<br>\n",
      "(ii)\u5982\u679c$c$\u662f\u4e00\u500b\u5e38\u6578\uff0c\u5247$cX$\u5b58\u5728\u6709\u9650\u671f\u671b\u503c\uff0c\u4e14$E(cX)=cE(X)$<br>\n",
      "(iii)$X+Y$\u5b58\u5728\u6709\u9650\u671f\u671b\u503c\uff0c\u4e14$E(X+Y)=E(X)+E(Y)$ <br>\n",
      "(iv)\u5047\u8a2d$P(X \\geq Y)=1$ \uff0c\u5247$E(X) \\geq E(Y)$\uff0c\u800c\u4e14$E(X)=E(Y)$ \u82e5\u4e14\u552f\u82e5 $P(X=Y)=1$<br>\n",
      "(v)$|E(X)| \\leq E(|X|)$<br>\n",
      "</font>\n",
      "p.f\uff1a<br>\n",
      "\u56e0\u70ba$X$\u548c$Y$\u5b58\u5728\u6709\u9650\u671f\u671b\u503c\uff0c$\\sum$ \u662f\u4e00\u500b\u7dda\u6027\u7b97\u5b50<br>\n",
      "\u4e5f\u5c31\u662f\u8aaa\uff0c$\\sum$\u6703\u6709\u7dda\u6027\u7684\u6027\u8cea $\\Rightarrow \\sum x_i (\\alpha f (x_i) + \\beta g(x_i)) = \\alpha \\sum x_i f(x_i) + \\beta \\sum x_i g(x_i)$<br>\n",
      "\u6240\u4ee5$E(\\alpha X + \\beta  Y) = \\sum_{x,y} (\\alpha x+ \\beta y) f(x,y) =  \\alpha \\sum_{x,y} xf(x,y) +\\beta \\sum_{x,y} y f(x,y)=E(X)+E(Y)$ <br>"
     ]
    },
    {
     "cell_type": "markdown",
     "metadata": {},
     "source": [
      "<font color='blue'>\n",
      "Theorem.3-5\uff1a<br>\n",
      "\u4ee4$X$\u70ba\u4e00\u500b\u96e2\u6563\u96a8\u6a5f\u8b8a\u6578\u4f7f\u5f97$P(|X| \\leq M ) =1$<br>\n",
      "\u5247$X$\u5b58\u5728\u6709\u9650\u671f\u671b\u503c\u4e14$|E(X)| \\leq M$<br>\n",
      "</font>"
     ]
    },
    {
     "cell_type": "markdown",
     "metadata": {},
     "source": [
      "<font color='blue'>\n",
      "Theorem.3-6\uff1a<br>\n",
      "\u4ee4$X$\u548c$Y$\u662f\u5169\u500b\u7368\u7acb\u4e26\u5b58\u5728\u6709\u9650\u671f\u671b\u503c\u7684\u96a8\u6a5f\u8b8a\u6578<br>\n",
      "\u5247$XY$\u5b58\u5728\u6709\u9650\u671f\u671b\u503c\u4e14$E(XY) = E(X)E(Y)$<br>\n",
      "</font>\n",
      "p.f\uff1a<br>\n",
      "\u56e0\u70ba\u7368\u7acb\uff0c\u6240\u4ee5$f_{XY}(x,y)=f_X(x) \\cdot f_Y(y)$<br>\n",
      "\u6240\u4ee5$\\sum_{x,y} f_{XY}(x,y) = \\sum_{x,y} f_X(x) \\cdot f_Y(y) = \\sum_x xf_X(x) \\cdot \\sum_y yf_Y(y)$<br>\n",
      "$\\Rightarrow E(XY)=E(X)E(Y)$ <br>"
     ]
    },
    {
     "cell_type": "markdown",
     "metadata": {},
     "source": [
      "<font color='blue'>\n",
      "Example.3-7\uff1a<br>\n",
      "\u5df2\u77e5$(X_k)_{k=1}^n$\u662fi.i.d (\u7368\u7acb\u540c\u5206\u914d) \uff0c\u800c\u4e14 $ X_i \\sim Ber(p) $<br>\n",
      "\u4ee4$S_n=X_1+X_2+...+X_n$ \uff0c\u627e\u51fa$S_n$\u7684\u671f\u671b\u503c<br>\n",
      "</font>\n",
      "Sol\uff1a<br>\n",
      "\u56e0\u70ba$X_i \\sim Ber(p) \\Rightarrow$ <br>\n",
      "$f(x)=p$  if  $x=1$ ,<br>\n",
      "$f(x)=(1-p)$  if  $x=0$ , <br>\n",
      "$f(x)=0$  if  otherwise.<br>\n",
      "\u5df2\u77e5$E(X_1)=E(X_2)=...=E(X_n)=p$<br>\n",
      "\u56e0\u6b64\u7531Thm.3-4 (iii)<br>\n",
      "$E(S_n)=E(X_1)+E(X_2)+...+E(X_n)=p+p+...+p=np$<br>"
     ]
    },
    {
     "cell_type": "code",
     "collapsed": false,
     "input": [],
     "language": "python",
     "metadata": {},
     "outputs": []
    }
   ],
   "metadata": {}
  }
 ]
}