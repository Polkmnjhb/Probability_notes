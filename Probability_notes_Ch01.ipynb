{
 "metadata": {
  "name": ""
 },
 "nbformat": 3,
 "nbformat_minor": 0,
 "worksheets": [
  {
   "cells": [
    {
     "cell_type": "heading",
     "level": 1,
     "metadata": {},
     "source": [
      "<font color='red'>#Ch01-\u300c\u6a5f\u7387\u7a7a\u9593(Probability Space)\u300d</font>"
     ]
    },
    {
     "cell_type": "heading",
     "level": 2,
     "metadata": {},
     "source": [
      "#1.1 \u96a8\u6a5f\u73fe\u8c61\u7bc4\u4f8b\u2014"
     ]
    },
    {
     "cell_type": "markdown",
     "metadata": {},
     "source": [
      "\u3000\u3000\u5728\u6211\u5011\u958b\u59cb\u8ac7\u8ad6\u672c\u7ae0\u4e3b\u984c\u300c\u6a5f\u7387\u7a7a\u9593\u300d\u524d\uff0c\u6211\u5011\u5148\u4f86\u770b\u5169\u500b\u7c21\u55ae\u4e14\u5be6\u969b\u7684\u96a8\u6a5f\u73fe\u8c61\u5be6\u4f8b\u3002"
     ]
    },
    {
     "cell_type": "markdown",
     "metadata": {},
     "source": [
      "<font color='blue'>\n",
      "Example.1-1\uff1a<br>\n",
      "\u4e00\u7bb1\u5167\u6709K\u9846\u7403\uff0c\u5206\u5225\u6a19\u4e0a\u865f\u78bc1,2,...,K\uff0c\u5747\u52fb\u6df7\u5408\u5f8c\u62bd\u51fa\u4e00\u7403\uff0c\u53d6\u5f8c\u653e\u56de\u4e26\u91cd\u8907n\u6b21\u5be6\u9a57\u3002<br>\n",
      "\u73fe\u57f7\u884c\u4e00\u6b21K=4\u3001n=25\u7684\u5be6\u9a57\uff0c\u5f97\u7d50\u679c\u5982\u4e0b:<br>\n",
      "1,3,1,4,2,2,4,1,1,3,3,4,2,1,2,1,1,3,2,2,4,2,3,2,4 <br>\n",
      "\u53ef\u5f97\u51fa\u56db\u9846\u7403\u62bd\u51fa\u7684\u6b21\u6578\u5206\u5225\u70ba 7,8,5,5 \uff0c\u6240\u4f54\u6bd4\u4f8b\u5206\u5225\u70ba 0.28 , 0.32 , 0.20 , 0.20<br>\n",
      "</font>"
     ]
    },
    {
     "cell_type": "markdown",
     "metadata": {},
     "source": [
      "\u3000\u3000\u73fe\u5728\u6211\u5011\u8a66\u8457\u7528\u6578\u5b78\u6a21\u578b\u53bb\u89e3\u91cb\u9019\u500b\u73fe\u8c61\uff0c\u6b65\u9a5f\u5982\u4e0b\uff1a<br>\n",
      "Step1\uff1a\u4ee4$N_n(t)$\u8868\u793an\u6b21\u5be6\u9a57\u4e2d\u62bd\u51fa$t$\u865f\u7403\u7684\u7e3d\u6b21\u6578\uff0c$P_n(t)$\u8868\u793an\u6b21\u5be6\u9a57\u4e2d\u62bd\u4e2d$t$\u865f\u7403\u6b21\u6578\u7684\u6bd4\u4f8b<br>\n",
      "Step2\uff1a\u53d6\u51fa\u4e00\u500b\u542b\u6709K\u500b\u9ede\u7684\u96c6\u5408 $\\Omega$\uff0c\u6bcf\u4e00\u500b\u9ede\u4ee3\u8868\u4e00\u500b\u5be6\u9a57\u7d50\u679c(Outcome) \uff0c $\\Omega$\u4e2dK\u500b\u9ede\u548cK\u500b\u5be6\u9a57\u7d50\u679c\u6709\u4e00\u5c0d\u4e00\u5c0d\u61c9\u7684\u95dc\u4fc2\u3002<br>\n",
      "Step3\uff1a\u4ee4$\\Omega$\u5167K\u500b\u9ede\u5206\u5225\u70ba $\\omega_1,\\omega_2,...,\\omega_k$\uff0c\u5176\u4e2d $\\omega_t$ \u4ee3\u8868$t$\u865f\u7403\u88ab\u62bd\u4e2d\u7684\u7d50\u679c<br>\n",
      "\u3000\u3000\u5247\u53ef\u5f97\u51fa\u4ee5\u4e0b\u7d50\u679c:<br>\n",
      "\u3000\u3000$N_{25}(\\omega_1)=7 , N_{25}(\\omega_2)=8 , N_{25}(\\omega_3)=5 , N_{25}(\\omega_4)=5$ <br>\n",
      "\u3000\u3000$P_{25}(\\omega_1)=\\frac{N_{25}(\\omega_1)}{25}=\\frac{7}{25}=0.28 , P_{25}(\\omega_2)=0.32 , P_{25}(\\omega_3)=0.20 , P_{25}(\\omega_{4})=0.20$<br>\n",
      "\u3000\u3000\u7531\u89c0\u5bdf\u5f97\u77e5\uff0c\u5c0d\u65bc$t=1,2,...,K$\uff0c\u5be6\u9a57\u7d50\u679c$\\omega_t$\u6240\u4f54\u7684\u6b21\u6578\u6bd4\u4f8b\u6703\u4ecb\u65bc0\u548c1\u4e4b\u9593\uff0c\u800c\u4e14\u6240\u6709\u7d50\u679c\u7684\u6bd4\u4f8b\u76f8\u52a0\u6703\u7b49\u65bc1\u3002<br>\n",
      "\u3000\u3000\u4e5f\u5c31\u662f\u8aaa $0 \\leq P(\\omega_t)\\leq 1$ \u4e14 $P(\\omega_1)+P(\\omega_2)+...+P(\\omega_K)=\\sum\\limits_{t=1}^K{P(\\omega_{t})}=1$"
     ]
    },
    {
     "cell_type": "markdown",
     "metadata": {},
     "source": [
      "\u3000\u3000\u4e0a\u9762\u53ea\u8a08\u7b97\u4e86\u55ae\u9ede\u7684\u6a5f\u7387\uff0c\u800c\u6211\u5011\u5728\u5f80\u5f8c\u6240\u8a08\u7b97\u7684\u6a5f\u7387\u53ef\u80fd\u4e0d\u53ea\u5305\u542b\u4e00\u9ede\uff0c\u9019\u6642\u5c31\u8981\u8003\u616e\u5230\u5b83\u5011\u300c\u662f\u5426\u6709\u91cd\u8907\u7684\u5730\u65b9\u300d\u4ee5\u53ca\u300c\u6703\u4e0d\u6703\u4e92\u76f8\u5f71\u97ff\u300d\u3002<br>\n",
      "\u3000\u3000\u4ee5\u4e0b\u5169\u500b\u7528\u8a9e\u53ef\u4ee5\u7cbe\u78ba\u7684\u63cf\u8ff0\u9019\u5169\u500b\u60c5\u6cc1\uff0d<br>\n",
      "\u3000\u3000\u5c0d\u65bc\u5169\u500b\u6c92\u6709\u4ea4\u96c6\u7684\u4e8b\u4ef6\uff0c\u6211\u5011\u7a31\u4e4b\u70ba<font color='red'>\u4e92\u65a5(Disjoint)</font>\uff0c\u5982\u300c\u62bd\u51fa1\u865f\u7403\u300d\u548c\u300c\u62bd\u51fa2\u865f\u7403\u300d\u5169\u4ef6\u4e8b\u60c5\u662f\u4e92\u65a5\u7684\uff1b<br>\n",
      "\u3000\u3000\u800c\u5c0d\u65bc\u5169\u500b\u4e0d\u6703\u4e92\u76f8\u5f71\u97ff\u7684\u4e8b\u4ef6\uff0c\u6211\u5011\u7a31\u4e4b\u70ba<font color='red'>\u7368\u7acb(Independent)</font>\uff0c\u7368\u7acb\u6027\u6703\u5728\u7ae0\u7bc01.5\u6709\u66f4\u8a73\u76e1\u7684\u4ecb\u7d39\u3002<br>\n",
      "\u3000\u3000\u5169\u500b\u5be6\u9a57\u7d50\u679c$\\omega_a , \\omega_b $\u5fc5\u5b9a\u662f\u4e92\u65a5\u7684\uff0c\u56e0\u70ba\u82e5$\\omega_a$\u767c\u751f\uff0c\u5247$\\omega_b$\u5fc5\u5b9a\u4e0d\u767c\u751f\uff0c\u53cd\u4e4b\u4ea6\u7136\u3002<br>\n",
      "\n",
      "\u3000\u3000\u63a5\u8457\u4f86\u770b\u770b\u96c6\u5408\u8ad6\u5982\u4f55\u61c9\u7528\u5728\u6a5f\u7387\u8ad6\u88e1 - <br>\n",
      "\u3000\u3000<font color='red'>case1-\u96c6\u5408\uff1a</font>\u7576\u6211\u5011\u8981\u63cf\u8ff0\u6709K\u500b\u5be6\u9a57\u7d50\u679c\u7684\u5be6\u9a57\u6642\uff0c\u76f8\u7576\u65bc\u88fd\u9020\u4e00\u500b\u6709K\u500b\u9ede\u7684\u96c6\u5408$\\Omega$\uff0c$\\Omega=\\{ \\omega_1,\\omega_2,...,\\omega_K\\}$\uff0c$P(\\Omega)=1$\u3002<br>\n",
      "\u3000\u3000<font color='red'>case2-\u5b50\u96c6\u5408\uff1a</font>\u4e00\u500b<font color='red'>\u4e8b\u4ef6(event)</font>\u300c$A$\u300d\u6307\u7684\u4fbf\u662f\u4e00\u500b\u6536\u96c6\u81f3\u5c11\u5176\u4e2d\u4e00\u500b\u9ede\u7684\u96c6\u5408\uff0c\u4f8b\u5982$A=\\{\\omega_1,\\omega_K\\}$\u5c31\u662f$\\Omega$\u4e2d\u4e00\u500b\u5305\u542b\u5169\u500b\u9ede\u7684\u4e8b\u4ef6\uff0c\u800c\u5176\u5be6$A$\u5c31\u662f$\\Omega$\u7684\u5b50\u96c6\u5408\uff0c\u4e00\u500b\u4e8b\u4ef6\u7684\u6a5f\u7387\u5b9a\u7fa9\u70ba\u5176\u6240\u5305\u542b\u9ede\u4e4b\u6a5f\u7387\u7e3d\u548c\uff0c\u4e5f\u5c31\u662f\u8aaa$P(A)=P(\\omega_1)+P(\\omega_N)$\u3002<br>\n",
      "\u3000\u3000<font color='red'>case3-\u7a7a\u96c6\u5408\uff1a</font>\u56e0\u70ba\u5be6\u9a57\u7d50\u679c\u5fc5\u5b9a\u6703\u767c\u751f\uff0c\u4e00\u500b\u7a7a\u7684\u4e8b\u4ef6\u4e26\u4e0d\u5b58\u5728\uff0c\u6211\u5011\u4ee5$\\varnothing$\uff0c\u4e5f\u5c31\u662f\u96c6\u5408\u8ad6\u4e2d\u7684\u7a7a\u96c6\u5408\u4ee3\u8868\u4e0d\u53ef\u80fd\u767c\u751f\u7684\u4e8b\u4ef6\uff0c\u56e0\u5176\u4e0d\u5305\u542b\u4efb\u4f55\u7684\u9ede\uff0c\u56e0\u6b64$P(\\varnothing)=0$\u3002 <br>\n",
      "\u3000\u3000<font color='red'>case4-\u4ea4\u96c6\uff1a</font>\u4ee4$A=\\{\\omega_1,\\omega_2\\} , B=\\{\\omega_1,\\omega_3\\}$\uff0c$A$\u548c$B$\u90fd\u767c\u751f\u7684\u60c5\u6cc1\uff0c\u6211\u5011\u53ef\u4ee5\u7528\u4ea4\u96c6$A\\cap B$\u8868\u793a<br>\n",
      "\u3000\u3000\u5beb\u4f5c$A\\cap B =\\{\\omega | \\omega\\in A \u4e14 \\omega\\in B\\} = \\{\\omega_1\\}$<br>\n",
      "\u3000\u3000<font color='red'>case5-\u806f\u96c6\uff1a</font> $A$\u548c$B$\u81f3\u5c11\u6709\u4e00\u500b\u767c\u751f\u7684\u60c5\u6cc1\uff0c\u6211\u5011\u53ef\u4ee5\u7528\u806f\u96c6$A\\cup B$\u8868\u793a\uff0c\u5beb\u4f5c$A\\cup B =\\{\\omega | \\omega\\in A \u6216\\omega\\in B\\}=\\{\\omega_1,\\omega_2,\\omega_3\\}$<br>\n",
      "\u3000\u3000<font color='red'>case6-\u88dc\u96c6\uff1a</font>\u4e0d\u767c\u751f$A$\u7684\u60c5\u6cc1\uff0c\u6211\u5011\u53ef\u4ee5\u7528\u88dc\u96c6$A^C$\u8868\u793a<br>\n",
      "\u3000\u3000\u5beb\u4f5c$A^C =\\{\\omega|\\omega\\in\\Omega \u4e14 \\omega\\not\\in A\\}=\\{\\omega_3,\\omega_4,...,\\omega_K\\}$\uff0c$P(A^C)=P(\\Omega)-P(A)=1-P(A)$<br>\n",
      "\u3000\u3000<font color='red'>case7-\u96c6\u5408\u76f8\u7b49\uff1a</font> \u5169\u4e8b\u4ef6$C$\u548c$D$\u76f8\u7b49\uff0c\u4ee3\u8868\u5176\u6240\u5305\u542b\u7684\u9ede\u76f8\u540c\uff0c\u8a08\u7b97\u5176\u6a5f\u7387\u4e5f\u5fc5\u76f8\u7b49\uff0c\u8868\u793a$\u300cC=D\u300d\\Rightarrow \u300cP(C)=P(D)\u300d$<br><br>\n",
      "\u3000\u3000\u5047\u8a2d$E=\\{E_1,E_2,...,E_K\\}$\u662f\u4e00\u500b\u5305\u542bK\u500b\u4e92\u65a5\u4e8b\u4ef6\u7684\u96c6\u5408\uff0c\u5247\u6211\u5011\u5728\u8a08\u7b97$E$\u7684\u6a5f\u7387\u6642\uff0c\u53ef\u4ee5\u5f88\u76f4\u89ba\u5730\u5c07K\u500b\u4e92\u65a5\u4e8b\u4ef6\u7684\u6a5f\u7387\u76f8\u52a0\u800c\u5f97\u3002<br>\n",
      "\u3000\u3000\u4e5f\u5c31\u662f\u8aaa\uff0c$P(E)=P(E_1)+P(E_2)+...+P(E_K)$\uff0c\u5728Example.1-8\u7684\uff08D\uff09\u4e2d\u6709\u66f4\u8a73\u7d30\u7684\u89e3\u91cb\u3002<br>\n",
      "\u3000\u3000\u4e0b\u9762\u662f\u4e00\u500b\u5be6\u4f8b\uff0c\u5728\u5be6\u4f8b\u4e2d\u6211\u5011\u80fd\u770b\u5230\u96c6\u5408\u8ad6\u5728\u6a5f\u7387\u8ad6\u4e2d\u7684\u7528\u8655\u70ba\u4f55\u3002"
     ]
    },
    {
     "cell_type": "markdown",
     "metadata": {},
     "source": [
      "<font color='blue'>\n",
      "Example.1-2\uff1a<br>\n",
      "\u888b\u4e2d\u6709\u7d05\u3001\u85cd\u3001\u7da0\u4e09\u8272\u7684\u5361\u7247\u5404\u4e00\u5f35\uff0c\u5df2\u77e5\u96a8\u6a5f\u62bd\u51fa\u4e00\u5f35\u7684\u6a5f\u7387\u70ba$P(\u7d05)=\\frac{1}{2} , P(\u85cd)=\\frac{1}{3} , P(\u7da0)=\\frac{1}{6}$<br>\n",
      "\u73fe\u5728\u5f9e\u888b\u4e2d\u96a8\u6a5f\u62bd\u51fa\u4e00\u5f35\u5361\u7247\uff0c\u8acb\u56de\u7b54\u4ee5\u4e0b\u554f\u984c\uff1a<br>\n",
      "(a)\u4eff\u9020\u4e0a\u9762step2\u7684\u4f5c\u6cd5\u627e\u4e00\u500b\u5305\u542b\u6240\u6709\u5be6\u9a57\u7d50\u679c\u7684$\\Omega$\uff0c\u4e26\u5217\u51fa$\\Omega$\u4e2d\u6240\u6709\u7684\u5143\u7d20\u3002<br>\n",
      "(b)\u4ee4$A$\u70ba\u300c\u62bd\u51fa\u5361\u7247\u4e0d\u70ba\u85cd\u8272\u300d\u7684\u4e8b\u4ef6\uff0c\u5217\u51fa$A$\u7684\u5143\u7d20\u4e26\u8a08\u7b97$P(A)$\u3002<br>\n",
      "(c)$A$\u4e0d\u767c\u751f\u7684\u6a5f\u7387\u6709\u591a\u5c11\uff1f<br>\n",
      "(d)\u4ee4$B$\u70ba\u300c\u62bd\u51fa\u5361\u7247\u4e0d\u70ba\u7da0\u8272\u300d\u7684\u4e8b\u4ef6\uff0c\u5217\u51fa$B$\u7684\u5143\u7d20\u4e26\u8a08\u7b97$P(B)$\u3002<br>\n",
      "(e)$A$\u548c$B$\u540c\u6642\u767c\u751f\u7684\u6a5f\u7387\u6709\u591a\u5c11\uff1f<br>\n",
      "(f)$A$\u6216$B$\u81f3\u5c11\u6709\u4e00\u767c\u751f\u7684\u6a5f\u7387\u70ba\u4f55\uff1f<br>\n",
      "<br>\n",
      "</font>\n",
      "Sol:<br>\n",
      "(a)$\\Omega$\u4e26\u4e0d\u552f\u4e00\uff0c\u6211\u9078\u7528$\\Omega=\\{\\omega_r,\\omega_b,\\omega_g\\}$\uff0c\u5176\u4e2d$\\omega_r$\u4ee3\u8868\u62bd\u51fa\u7d05\u5361\u7684\u4e8b\u4ef6\uff0c$\\omega_b$\u4ee3\u8868\u62bd\u51fa\u85cd\u5361\u7684\u4e8b\u4ef6\uff0c$\\omega_g$\u4ee3\u8868\u62bd\u51fa\u7da0\u5361\u7684\u4e8b\u4ef6\uff0c\u4e09\u8005\u70ba\u4e92\u65a5\u4e8b\u4ef6\u3002<br>\n",
      "(b)$A=\\{\\omega|\\omega\\in\\Omega\u4e14\\omega\\not\\in \\{\\omega_b\\}\\}=\\{\\omega_r,\\omega_g\\}$ \uff0c$P(A)=P(\\omega_r)+P(\\omega_g)=\\frac{1}{3}+\\frac{1}{6}=\\frac{1}{2}$\u3002<br>\n",
      "(c)$A^C=\\{\\omega|\\omega\\in\\Omega\u4e14\\omega\\not\\in A \\}=\\{\\omega_b\\}$ \uff0c$P(A^C)=1-P(A)=1-\\frac{1}{2}=\\frac{1}{2}$\u3002<br>\n",
      "(d)$B=\\{\\omega|\\omega\\in\\Omega\u4e14\\omega\\not\\in \\{\\omega_g\\}\\}=\\{\\omega_r,\\omega_b\\}$ \uff0c$P(B)=P(\\omega_r)+P(\\omega_b)=\\frac{1}{3}+\\frac{1}{2}=\\frac{5}{6}$\u3002<br>\n",
      "(e)$A\\cap B = \\{\\omega|\\omega\\in A\u4e14\\omega\\in B\\} = \\{\\omega_r\\}$ \uff0c$P(A\\cap B)=P(\\omega_r)=\\frac{1}{2}$\u3002<br>\n",
      "(f)$A\\cup B = \\{\\omega|\\omega\\in A\u6216\\omega\\in B\\} = \\{\\omega_r,\\omega_b,\\omega_g\\}$ \uff0c$P(A\\cup B)=P(\\Omega)=1$\u3002<br><br>\n",
      "\n",
      "</font>"
     ]
    },
    {
     "cell_type": "heading",
     "level": 2,
     "metadata": {},
     "source": [
      "#1.2 \u6a5f\u7387\u7a7a\u9593\u2014"
     ]
    },
    {
     "cell_type": "markdown",
     "metadata": {},
     "source": [
      "\u3000\u3000\u5728\u672c\u7bc0\u4e2d\uff0c\u6703\u4ee5\u8f03\u56b4\u8b39\u7684\u5b9a\u7fa9\u69cb\u9020\u4e00\u500b\u6a5f\u7387\u7a7a\u9593\uff0c\u96d6\u7136\u6211\u5011\u5728Example.1-2\u4e2d\u5df2\u7d93\u63d0\u904e\uff0c\u4f46\u6211\u5011\u9084\u662f\u5fc5\u9808\u5148\u5b9a\u7fa9\u4ec0\u9ebc\u662f<font color='red'>\u300c\u6a23\u672c\u7a7a\u9593(Sample space)\u300d</font>\u3001<font color='red'>\u300c\u4e8b\u4ef6(event)\u300d</font>\u3001<font color='red'>\u300c\u51aa\u96c6(Power Set)\u300d</font>\u3001<font color='red'>\u300c\u6a5f\u7387\u6e2c\u5ea6(Probability Measure)\u300d</font>\uff0c<font color='red'>\u300c\u6a5f\u7387\u7a7a\u9593(Probability Space)\u300d</font>\uff0c\u5982\u679c\u770b\u4e0d\u61c2\u7684\u8a71\u5c31\u770b\u770bExample.1-8\u5427\uff0c\u8b80\u8005\u80fd\u5920\u5728\u4f8b\u5b50\u4e2d\u770b\u5230\u6bd4\u8f03\u751f\u52d5\u7684\u6558\u8ff0\u3002<br>"
     ]
    },
    {
     "cell_type": "markdown",
     "metadata": {},
     "source": [
      "<font color='green'>\n",
      "Definition.1-3:<br>\n",
      "A <font color='red'>sample space</font>, $\\Omega$, which is the set of all possible outcomes.\n",
      "</font>"
     ]
    },
    {
     "cell_type": "markdown",
     "metadata": {},
     "source": [
      "<font color='green'>\n",
      "Definition.1-4:<br>\n",
      "An <font color='red'>event</font> is a set of outcomes of an experiment (a subset of the sample space) to which a probability is assigned.\n",
      "</font>"
     ]
    },
    {
     "cell_type": "markdown",
     "metadata": {},
     "source": [
      "<font color='green'>\n",
      "Definition.1-5:<br>\n",
      "A <font color='red'>Power set</font> or a <font color='red'>Nonempty collection of subsets</font> of a set $\\Omega$ ,which denoted by $\\mathcal{A}$ , is called a <font color='red'>$\\sigma$-field</font> of subsets of $\\Omega$ provided that the following two properties hold:<br>\n",
      "(i) If $A$ is in $\\mathcal{A}$ , then $A^C$ is also in $\\mathcal{A}$ (i.e. $\u300cA\\in\\mathcal{A}\u300d \\Rightarrow \u300cA^C\\in\\mathcal{A}\u300d$) <br>\n",
      "\u88dc\u5145\u8aaa\u660e\uff1a\u300c$A$\u662f\u4e00\u500b\u4e8b\u4ef6\u300d\u4ee3\u8868\u300c\u4e0d\u767c\u751f$A$\u4e5f\u662f\u4e00\u500b\u4e8b\u4ef6\u300d\u3002<br>\n",
      "(ii) If $A_n$ is in $\\mathcal{A}$ for $n=1,2,...$ , then $\\bigcap_{n=1}^\\infty A_n and \\bigcup_{n=1}^\\infty A_n$ are both in $\\mathcal{A}$<br>\n",
      "\u88dc\u5145\u8aaa\u660e\uff1a\u300c$A_1$ \u5230 $A_n$ \u90fd\u662f\u4e8b\u4ef6\u300d\u4ee3\u8868\u300c\u5168\u90e8\u90fd\u767c\u751f\u4e5f\u662f\u4e00\u500b\u4e8b\u4ef6\u300d\u548c\u300c\u81f3\u5c11\u6709\u4e00\u767c\u751f\u4e5f\u662f\u4e00\u500b\u4e8b\u4ef6\u300d\u3002\n",
      "</font>"
     ]
    },
    {
     "cell_type": "markdown",
     "metadata": {},
     "source": [
      "<font color='green'>\n",
      "Definition.1-6:<br>\n",
      "A <font color='red'>Probability measure</font> $P$ on a $\\sigma$-field of subsets $\\mathcal{A}$ of a set $\\Omega$ is a real-valued function having domain $\\mathcal{A}$ satisfying the following properties: <br>\n",
      "(i) $P(\\Omega)=1$.<br>\n",
      "(ii) $P(A)\\geq 0$ for all $A\\in\\mathcal{A}$.<br>\n",
      "(iii) If $A_n$,$n=1,2,...$,are mutually disjoint sets in $\\mathcal{A}$ , then $P(\\bigcup_{n=1}^\\infty A_n) = \\sum_{n=1}^\\infty P(A_n)$<br>\n",
      "</font>\n"
     ]
    },
    {
     "cell_type": "markdown",
     "metadata": {},
     "source": [
      "\u3000\u3000<font color='red'>\u6e2c\u5ea6(Measure)</font>\u662f\u4e00\u500b\u5728<font color='red'>\u5206\u6790(Analysis)</font>\u9818\u57df\u975e\u5e38\u91cd\u8981\u7684\u89c0\u5ff5<br>\n",
      "\u3000\u3000\u6709\u8208\u8da3\u7684\u8b80\u8005\u53ef\u9078\u300c\u9ad8\u7b49\u5fae\u7a4d\u5206\u300d\u3001\u300c\u521d\u7b49\u5206\u6790\u300d\u3001\u300c\u5be6\u8b8a\u6578\u51fd\u6578\u300d\u7b49\u8ab2\u7a0b\uff0c\u6216\u81ea\u884c\u7814\u8b80\u76f8\u95dc\u53c3\u8003\u66f8\uff0c\u672c\u8655\u50c5\u4f7f\u7528\u8a72\u540d\u8a5e\u800c\u4e0d\u505a\u89e3\u91cb\u3002"
     ]
    },
    {
     "cell_type": "markdown",
     "metadata": {},
     "source": [
      "<font color='green'>\n",
      "Definition.1-7:<br>\n",
      "A <font color='red'>Probability space</font> , denoted by $(\\Omega,\\mathcal{A},P)$, is a set $\\Omega$ , a $\\sigma$-field of subsets $\\mathcal{A}$ , and a probability measure $P$ defined on $\\mathcal{A}$.<br>\n",
      "</font>"
     ]
    },
    {
     "cell_type": "markdown",
     "metadata": {},
     "source": [
      "<font color='blue'>\n",
      "Example.1-8:<br>\n",
      "\u4eca\u65e5\u6211\u5011\u60f3\u7814\u7a76\u4e00\u679a\u786c\u5e63\u6295\u51fa2\u6b21\u7684\u6b63\u3001\u53cd\u9762\u7d50\u679c<br>\n",
      "\u4f9d\u64da\u53ef\u9760\u7684\u6d88\u606f\u548c\u7d71\u8a08\u7d50\u679c\u6307\u51fa\uff0c2\u6b21\u64f2\u786c\u5e63\u70ba\u7368\u7acb\u4e8b\u4ef6\uff0c\u4e14\u5169\u9762\u51fa\u73fe\u7684\u6a5f\u7387\u5747\u70ba0.5\u3002<br>\n",
      "\u8acb\u5617\u8a66\u5efa\u7acb\u4e00\u500b\u6a5f\u7387\u7a7a\u9593\uff0c\u4e26\u89e3\u91cb\u70ba\u4f55$P(A\\cup B) \\leq P(A)+P(B)$\uff0c\u627e\u51fa\u7b49\u865f\u6210\u7acb\u7684\u689d\u4ef6\u3002<br>\n",
      "</font>\n",
      "Sol:<br>\n",
      "\u4e00\u500b\u6a5f\u7387\u7a7a\u9593\u53ef\u8868\u793a\u70ba$(\\Omega,\\mathcal{A},P)$ <br>\n",
      "\uff08A\uff09$\\Omega$\u662f\u4e00\u500b\u6536\u96c6\u6240\u6709\u5be6\u9a57\u7d50\u679c\u7684\u96c6\u5408\uff0c\u64f2\u51fa\u786c\u5e632\u6b21\u7684\u7d50\u679c\u7e3d\u5171\u6709\u56db\u7a2e\uff0c\u5206\u5225\u70ba\u300c\u6b63\u9762\u3001\u6b63\u9762\u300d\u3001\u300c\u6b63\u9762\u3001\u53cd\u9762\u300d\u3001\u300c\u53cd\u9762\u3001\u6b63\u9762\u300d\u3001\u300c\u53cd\u9762\u3001\u53cd\u9762\u300d<br>\n",
      "\u4ee5$\\omega_1$\u81f3$\\omega_4$\u4ee3\u8868\uff0c\u5247$\\Omega=\\{\u6b63\u6b63,\u6b63\u53cd,\u53cd\u6b63,\u53cd\u53cd\\}=\\{\\omega_1,\\omega_2,\\omega_3,\\omega_4\\}$\u3002<br>\n",
      "<br>\n",
      "\uff08B\uff09$\\mathcal{A}$\u662f$\\Omega$\u7684\u51aa\u96c6\uff0c\u56e0\u70ba$\\Omega$\u5171\u67094\u500b\u5143\u7d20\uff0c\u5247$\\mathcal{A}$\u7e3d\u5171\u6709$2^4=16$\u500b\u5143\u7d20\uff0c\u4f9d\u5e8f\u70ba\uff1a<br>\n",
      "1.$\\varnothing$ 2.$\\{\\omega_1\\}$ 3.$\\{\\omega_2\\}$ 4.$\\{\\omega_3\\}$ 5.$\\{\\omega_4\\}$ 6.$\\{\\omega_1,\\omega_2\\}$ 7.$\\{\\omega_1,\\omega_3\\}$ 8.$\\{\\omega_1,\\omega_4\\}$  9.$\\{\\omega_2,\\omega_3\\}$ 10.$\\{\\omega_2,\\omega_4\\}$ 11.$\\{\\omega_3,\\omega_4\\}$ <br> \n",
      "12.$\\{\\omega_1,\\omega_2,\\omega_3\\}$ 13.$\\{\\omega_1,\\omega_2,\\omega_4\\}$ 14.$\\{\\omega_1,\\omega_3,\\omega_4\\}$ 15.$\\{\\omega_2,\\omega_3,\\omega_4\\}$ 16.$\\{\\omega_1,\\omega_2,\\omega_3,\\omega_4\\}$ <br>\n",
      "\u4e5f\u5c31\u662f\u8aaa\uff0c\u5982\u679c\u5c07\u5305\u542b\u76f8\u540c\u9ede\u7684\u60c5\u6cc1\u8996\u70ba\u76f8\u540c\uff0c\u90a3\u9019\u500b\u6a23\u672c\u7a7a\u9593\u7e3d\u5171\u53ea\u670916\u7a2e\u4e8b\u4ef6\uff0c\u800c\u4e14\u53ef\u4ee5\u7528\u4e0a\u8ff016\u500b\u96c6\u5408\u4e2d\u4e4b\u4e00\u8868\u793a\u3002<br>\n",
      "\u8a18\u70ba$\\mathcal{A}=\\{\\varnothing,\\{\\omega_1\\},\\{\\omega_2\\},\\{\\omega_3\\},\\{\\omega_4\\},\\{\\omega_1,\\omega_2\\},\\{\\omega_1,\\omega_3\\},\\{\\omega_1,\\omega_4\\},\\{\\omega_2,\\omega_3\\},\\{\\omega_2,\\omega_4\\},\\{\\omega_3,\\omega_4\\}$,<br>, $\\{\\omega_1,\\omega_2,\\omega_3\\},\\{\\omega_1,\\omega_2,\\omega_4\\},\\{\\omega_1,\\omega_3,\\omega_4\\},\\{\\omega_2,\\omega_3,\\omega_4\\},\\{\\omega_1,\\omega_2,\\omega_3,\\omega_4\\}\\}$ <br>\n",
      "<br>\n",
      "\uff08C\uff09$P$\u662f\u6a5f\u7387\u6e2c\u5ea6\uff0c\u4f9d\u64da\u984c\u76ee\u6240\u8ff0\uff0c$P(\u6b63)=P(\u53cd)=0.5$<br>\n",
      "\u56e0\u70ba2\u6b21\u64f2\u786c\u5e63\u70ba\u7368\u7acb\u4e8b\u4ef6\uff0c\u6240\u4ee5$P(\\omega_1)=P(\\omega_2)=P(\\omega_3)=P(\\omega_4)=(0.5)*(0.5)=0.25$<br>\n",
      "\u6bcf\u4e00\u500b\u4e8b\u4ef6\uff0c\u4e5f\u5c31\u662f$\\mathcal{A}$\u4e2d\u6bcf\u4e00\u500b\u5143\u7d20\uff0c\u6839\u64da\u5176\u5305\u542b\u7684\u6a23\u672c\u9ede\uff0c\u90fd\u80fd\u7528\u6b64\u6e2c\u5ea6\u5f97\u5230\u4e00\u500b\u4ecb\u65bc0\u548c1\u4e4b\u9593\u7684\u503c\u3002<br>\n",
      "\u8209\u4f8b\u4f86\u8aaa\uff0c\u67d0\u4e8b\u4ef6$\\omega_a=\\{\u6070\u597d\u67091\u53cd\u9762\u7684\u4e8b\u4ef6\\}$\uff0c\u56e0\u70ba$\\omega_a=\\{\\omega_2,\\omega_3\\}$\uff0c\u5247$P(\\omega_a)=P(\\omega_2)+P(\\omega_3)=0.5$<br>\n",
      "\u53e6\u4e00\u500b\u4e8b\u4ef6$\\omega_b=\\{\u7b2c1\u6b21\u70ba\u6b63\u9762\u7684\u4e8b\u4ef6\\}$\uff0c\u56e0\u70ba$\\omega_b=\\{\\omega_1,\\omega_2\\}$\uff0c\u5247$P(\\omega_b)=P(\\omega_1)+P(\\omega_2)=0.5$<br>\n",
      "\u800c\u4e14$\\omega_a \\cap \\omega_b = \\{\\omega_2\\}$ \uff0c $\\omega_a \\cup \\omega_b = \\{\\omega_1,\\omega_2,\\omega_3\\}$ \u5169\u8005\u7686\u70ba\u4e00\u4e8b\u4ef6 \uff0c <br>\n",
      "$P(\\omega_a \\cap \\omega_b) = 0.25$ , $P(\\omega_a \\cup \\omega_b) = 0.75$ <br>\n",
      "<br>\n",
      "\uff08D\uff09\u5728\uff08C\uff09\u4e2d\uff0c\u6211\u5011\u53ef\u4ee5\u6e05\u695a\u770b\u5230$P(\\omega_a \\cup \\omega_b) = 0.75 < 1 = P(\\omega_a)+P(\\omega_b)$<br>\n",
      "\u539f\u56e0\u662f\u5728\u8a08\u7b97$P(\\omega_a)+P(\\omega_b)$\u6642\uff0c$P(\\omega_2)$\u88ab\u91cd\u8907\u8a08\u7b97\u4e86\u5169\u6b21\uff0c\u4e0d\u7b49\u5f0f\u5de6\u908a\u5247\u53ea\u8a08\u7b97\u4e86\u4e00\u6b21<br>\n",
      "\u56e0\u6b64\u5728\u8a08\u7b97\u806f\u96c6\u7684\u6a5f\u7387\u6642\uff0c\u5fc5\u9808\u6263\u6389\u5169\u8005\u6709\u4ea4\u96c6\u7684\u90e8\u4efd\uff0c\u624d\u662f\u5176\u4e8b\u4ef6\u7684\u6a5f\u7387<br>\n",
      "\u4ee5\u4e0a\u8aaa\u660e\u53ef\u7528$P(\\omega_a \\cup \\omega_b)=P(\\omega_a)+P(\\omega_b)-P(\\omega_a \\cap \\omega_b)$ \u8868\u793a\u3002<br>\n",
      "\u800c\u7576\u5169\u4e8b\u4ef6\u4e92\u65a5\u6642\uff0c\u5f97\u51fa$\\omega_a \\cap \\omega_b = \\varnothing \\Rightarrow P(\\omega_a \\cap \\omega_b)=0 \\Rightarrow P(\\omega_a \\cup \\omega_b) = P(\\omega_a)+P(\\omega_b)$"
     ]
    },
    {
     "cell_type": "heading",
     "level": 2,
     "metadata": {},
     "source": [
      "#1.3 \u6a5f\u7387\u7684\u6027\u8cea\u2014"
     ]
    },
    {
     "cell_type": "markdown",
     "metadata": {},
     "source": [
      " \u3000\u3000\u5728\u96c6\u5408\u8ad6\u4e2d\uff0c\u6211\u5011\u6709\u4ee5\u4e0b\u6027\u8cea\uff1a<br>\n",
      " <font color='green'>\n",
      "Property.1-9:\n",
      "\u4ee4$A,B,C$\u662f3\u500b$\\Omega$\u5167\u7684\u4efb\u610f\u5b50\u96c6\u5408\uff0c\u5247\u6709\u4ee5\u4e0b4\u500b\u6027\u8cea<br>\n",
      "(i)$({A^C})^C=A$ , $A \\cap A^C = \\varnothing$ , $A \\cup A^c=\\Omega$<br>\n",
      "(ii)$(A\\cap B) \\cup C = (A\\cup C) \\cap (B \\cup C)$<br>\n",
      "\u3000$(A\\cup B) \\cap C = (A\\cap C) \\cup (B \\cap C)$<br>\n",
      "(iii)$A\\cup B = B\\cup A$<br>\n",
      "\u3000$A\\cup B = B\\cup A$<br>\n",
      "(iv)$(\\Omega)^C=\\varnothing$ <br>\n",
      "\u3000$(\\varnothing)^C=\\Omega$<br>\n",
      " </font>"
     ]
    },
    {
     "cell_type": "markdown",
     "metadata": {},
     "source": [
      "\u3000\u3000\u5728\u6a5f\u7387\u8ad6\u4e2d\u6211\u5011\u5df2\u77e5\uff1a\u300c\u5982\u679c\u5169\u96c6\u5408\u76f8\u7b49\uff0c\u56e0\u5176\u6240\u5305\u542b\u7684\u6a23\u672c\u9ede\u76f8\u540c\uff0c\u56e0\u6b64\u5176\u6a5f\u7387\u76f8\u7b49\u3002\u300d\uff0c\u9019\u8868\u793a\u6211\u5011\u5728\u8a08\u7b97\u6a5f\u7387\u6642\uff0c\u53ef\u4ee5\u5c07\u4e00\u500b\u672a\u77e5\u6a5f\u7387\u7684\u96c6\u5408\u62c6\u6210\u82e5\u5e72\u500b\u5df2\u77e5\u6a5f\u7387\u96c6\u5408\u7684\u806f\u96c6\uff0c\u800c\u518d\u6839\u64daExample.1-8\u7684\u7d50\u679c\uff0c\u5982\u679c\u88ab\u62c6\u5206\u7684\u96c6\u5408<font color='red'>\u5169\u5169\u4e92\u65a5(Pairwise Disjoint)</font>\uff0c\u5247\u4f9d\u64da\u6578\u5b78\u6b78\u7d0d\u6cd5\uff0c\u5176\u806f\u96c6\u7684\u6a5f\u7387\u76f8\u7b49\u65bc\u5404\u500b\u96c6\u5408\u7684\u6a5f\u7387\u52a0\u7e3d\uff0c\u56e0\u6b64\u2014<br><br>\n",
      "\n",
      "<font color='green'>\n",
      "Property.1-10:<br>\n",
      "\u5982\u679c$A_i,i=1,2,...,n$\u662f\u4e8b\u4ef6\uff0c\u5247$P(\\bigcup_{i=1}^n A_i) \\leq \\sum_{i=1}^n P(A_i)$<br>\n",
      "\u7b49\u865f\u6210\u7acb\u5728n\u500b\u4e8b\u4ef6\u70ba<font color='red'>\u5169\u5169\u4e92\u65a5(Pairwise Disjoint)</font>\u3002\n",
      "</font><br>\n",
      "\n",
      "\u4ee4$A_k$ , k=1,2,...,n \u70ba\u5169\u5169\u4e92\u65a5\u4e8b\u4ef6\uff0c\u4ee3\u8868\u4efb\u53d6\u5169\u4e8b\u4ef6\u5176\u4ea4\u96c6\u5fc5\u70ba\u7a7a\uff0c\u4e5f\u5c31\u662f\u8aaa<br>\n",
      "$\\forall i\\not = j,A_i \\cap A_j = \\varnothing \\Rightarrow P(A_i \\cup A_j) = P(A_i)+P(A_j)$<br><br>\n",
      "\u5047\u8a2d\u73fe\u6709\u53e6\u5916\u4e00\u500b\u4e92\u65a5\u4e8b\u4ef6$A_r$\uff0c\u56e0\u70ba$A_i \\cap A_r = \\varnothing , A_j \\cap A_r = \\varnothing$ <br>\n",
      "\u6240\u4ee5$(A_i \\cup A_j ) \\cap A_r = (A_i \\cap A_r) \\cup (A_j \\cap A_r)=\\varnothing \\cup \\varnothing = \\varnothing$<br>\n",
      "$\\Rightarrow P(A_i \\cup A_j \\cup A_r) = P((A_i \\cup A_j) \\cup(A_r))=P(A_i \\cup A_j) + P(A_r)-P((A_i \\cup A_j) \\cap A_r)=P(A_i)+P(A_j)+P(A_r)$<br>\n",
      "\u4f9d\u6578\u5b78\u6b78\u7d0d\u6cd5\u5f97\u77e5$P(A_1\\cup A_2\\cup ... \\cup A_n)=P(A_1)+P(A_2)+...P(A_n)$<br>"
     ]
    },
    {
     "cell_type": "markdown",
     "metadata": {},
     "source": [
      "\u3000\u3000\u5c0d\u4e00\u500b\u7d66\u5b9a\u7684\u6a5f\u7387\u7a7a\u9593$(\\Omega,\\mathcal{A},P)$\uff0c\u5047\u8a2d$A$\u548c$B$\u662f\u5169\u4efb\u610f\u4e8b\u4ef6\uff0c\u85c9\u7531\u4e0a\u9762\u5169\u500b\u6027\u8cea\uff0c\u6211\u5011\u53ef\u4ee5\u5f97\u51fa\u4e0b\u5217\u516c\u5f0f\u3002\n",
      "<font color='green'>\n",
      "Property.1-11:<br>\n",
      "\uff08\uff21\uff09$P(B)=P(A\\cap B)+P(A^C\\cap B)$<br>\n",
      "\uff08\uff22\uff09$P(A^C)=1-P(A)$<br>\n",
      "\uff08\uff23\uff09$P(\\varnothing)=0$<br>\n",
      "\uff08\uff24\uff09$P(A \\cup B)=P(A)+P(B)-P(A\\cap B)$<br>\n",
      "\uff08\uff25\uff09If $A\\subset B$ , then $P(B)=P(A)+P(A^C\\cap B)$ and $P(B)\\geq P(A)$<br>\n",
      "Let $A_n,n=1,2,...$ are events<br>\n",
      "\uff08\uff26\uff09By De Morgan's Law\uff0c$(A\\cap B)^C=A^C\\cup B^C$ and $(A\\cup B)^C=A^C\\cap B^C$<br>\n",
      "Hence by mathematical induction\uff0c$(\\bigcup_{n=1,2,...} A_n)^C=(\\bigcap_{n=1,2,...} {A_n}^C)$ and $(\\bigcap_{n=1,2,...} A_n)^C=(\\bigcup_{n=1,2,...} {A_n}^C)$ <br>\n",
      "So by \uff08B\uff09 , $P(\\bigcup_{n=1,2,...} A_n) = 1-P(\\bigcap_{n=1,2,...} {A_n}^C)$ and $P(\\bigcap_{n=1,2,...} A_n) = 1-P(\\bigcup_{n=1,2,...} {A_n}^C)$<br>\n",
      "\uff08\uff27\uff09<br>\n",
      "(i)If $A_1\\subset A_2 \\subset ... $ and $A=\\bigcup_{n=1}^\\infty A_n$ \uff0cthen $\\lim_{n\\rightarrow\\infty} P(A_n)=P(A)$<br>\n",
      "(ii)If $A_1\\supset A_2 \\supset ... $ and $A=\\bigcap_{n=1}^\\infty A_n$ \uff0cthen $\\lim_{n\\rightarrow\\infty} P(A_n)=P(A)$<br>\n",
      "</font><br>\n",
      "proof:<br>\n",
      "\uff08\uff21\uff09<br>\n",
      "\u56e0\u70ba$B=\\Omega \\cap B$\uff0c\u85c9\u7531Property.1-9\uff0c\u5f97\u51fa$B=(A\\cup A^C )\\cap B = (A \\cap B) \\cup (A^C \\cap B)$<br>\n",
      " $(A \\cap B)$\u548c$(A^C \\cap B)$\u70ba\u4e92\u65a5\uff0c\u56e0\u6b64$P(B)=P((A \\cap B) \\cup (A^C \\cap B))=P(A \\cap B)+P(A^C \\cap B)$<br>\n",
      "\uff08\uff22\uff09<br>\n",
      "\u7531\uff08A\uff09\u5f97$P(\\Omega)=P(A\\cap\\Omega)+P(A^C\\cap\\Omega) \\Rightarrow 1=P(A)+P(A^C) \\Rightarrow P(A^C)=1-P(A)$<br>\n",
      "\uff08\uff23\uff09<br>\n",
      "\u7531\uff08B\uff09\u5f97$P(\\varnothing)=P(\\Omega^C)=1-P(\\Omega)=1-1=0$<br>\n",
      "\uff08\uff24\uff09<br>\n",
      "\u5c07$A\\cup B$\u5206\u6210$A\\cap B^C , A\\cap B , A^C\\cap B$\u4e09\u500b\u4e92\u65a5\u7684\u4e8b\u4ef6(\u70ba\u4f55\u4e92\u65a5\u9019\u90e8\u4efd\u8acb\u8b80\u8005\u81ea\u884c\u8166\u88dc\u756b\u9762\uff0c\u756b\u5169\u500b\u5713\uff0c\u91cd\u758a\u7684\u90e8\u4efd\u662f$A\\cap B$)<br>\n",
      "\u4e26\u7531\uff08A\uff09\u5f97$P(A\\cap B^C)=P(A)-P(A\\cap B)$ , $P(A^C \\cap B) = P(B)-P(A\\cap B)$<br>\n",
      "\u56e0\u6b64$P(A\\cup B) = P((A\\cap B^C) \\cup (A\\cap B) \\cup (A^C \\cap B)) = P(A\\cap B^C)+P(A\\cap B)+P(A^C \\cap B)$<br>\n",
      "$\\Rightarrow P(A\\cup B) = [P(A)-P(A\\cap B)] + P(A\\cap B) + [P(B)-P(A\\cap B)]=P(A)+P(B)-P(A\\cap B)$<br>\n",
      "\uff08\uff25\uff09<br>\n",
      "\u56e0$A\\subset B$\uff0c\u6240\u4ee5$A\\cap B=A$\uff0c\u7531\uff08A\uff09\u5f97$P(B)=P(A\\cap B)+P(A^C\\cap B)=P(A)+P(A^C\\cap B)$<br>\n",
      "\u6839\u64daProbability measure\u7684\u5b9a\u7fa9\uff0c$P(A^C\\cap B) \\geq 0$ \uff0c\u6240\u4ee5$P(B) \\geq P(A)$<br>\n",
      "\uff08\uff26\uff09<br>\n",
      "Trivial<br>\n",
      "\uff08\uff27\uff09<br>\n",
      "(i)\u4ee4$B_1=A_1$\uff0c\u4e14\u5c0d$n\\geq 2$\uff0c$B_n=A_{n}\\cap A_{n-1}^C$\uff0c\u5176\u4e2d$B_1,B_2,...$\u662f\u5169\u5169\u4e92\u65a5\u4e8b\u4ef6(\u8b80\u8005\u8acb\u81ea\u884c\u8166\u88dc\u5716\u5f62\uff0c$B_2$\u5c31\u662f$A_2$\u6263\u6389\u548c$A_1$\u4ea4\u96c6\u7684\u90e8\u4efd\u3002)<br>\n",
      "\u53ef\u5f97\u51fa$A_n=\\bigcup_{i=1}^n B_{i}$ , $A=\\bigcup_{i=1}^\\infty B_{i}$ \uff0c\u56e0\u6b64$P(A_n)=P(\\bigcup_{i=1}^n B_{i}) = \\sum_{i=1}^n P(B_{i})$ \u4e14 $P(A)=\\sum_{i=1}^\\infty P(B_{i})$<br>\n",
      "\u6839\u64da\u7121\u9650\u7d1a\u6578\u548c\u7684\u5b9a\u7fa9\uff0c$\\lim_{n\\rightarrow\\infty}\\sum_{i=1}^n P(B_i)=\\sum_{i=1}^\\infty(P(B_{i})) \\Rightarrow \\lim_{n\\rightarrow\\infty} P(A_{n})=P(A)$<br>\n",
      "(ii)$A_1^C \\supset A_2^C\\supset ...$\uff0c\u6839\u64da\uff08F\uff09\u5f97\u5230$A^C=(\\bigcap_{n=1}^\\infty A_n)^C=\\bigcup_{n=1}^\\infty A_n^C$<br>\n",
      "\u7531(i)\u5f97$\\lim_{n\\rightarrow\\infty} P((A_{n})^C)=P(A^C)$ (\u6ce8\u610f\u6b64\u8655\u7684$A$\u548c(i)\u4e2d\u7684$A$\u4e26\u4e0d\u76f8\u540c) <br>\n",
      "\u7531\uff08B\uff09\u5f97$P(A_n^C)=1-P(A_n)$ \u4e14 $P(A^C)=1-P(A)$<br>\n",
      "\u56e0\u6b64$lim_{n\\rightarrow\\infty} P(A_n) = \\lim_{n\\rightarrow\\infty} (1-P(A_n^C))=1-\\lim_{n\\rightarrow\\infty} P(A_n^C) = 1-P(A^C)=P(A)$<br>"
     ]
    },
    {
     "cell_type": "heading",
     "level": 2,
     "metadata": {},
     "source": [
      "#1.4 \u689d\u4ef6\u6a5f\u7387\u2014"
     ]
    },
    {
     "cell_type": "markdown",
     "metadata": {},
     "source": [
      "\u3000\u3000\u6709\u4e86\u6a5f\u7387\u7684\u6027\u8cea\u5f8c\uff0c\u6211\u5011\u60f3\u8981\u8a0e\u8ad6\u7684\u4e8b\u60c5\u662f\uff0c\u300c\u5728\u67d0\u500b\u4e8b\u4ef6$A$\u767c\u751f\u7684\u60c5\u6cc1\u4e0b\uff0c\u767c\u751f\u4e8b\u4ef6$B$\u7684\u6a5f\u7387\u6709\u591a\u5c11\u300d\uff0c\u7a31\u4e4b\u70ba<font color='red'>\u689d\u4ef6\u6a5f\u7387(Conditional Probability)</font>\uff0c\u6211\u5011\u4ee5$P(B|A)$\u8868\u793a\u3002\u8070\u660e\u7684\u8b80\u8005\u61c9\u8a72\u767c\u73fe\u4e86\u4e00\u4ef6\u4e8b\u60c5\uff0c$P(B|A)$\u5176\u5be6\u5c31\u662f\u4ee3\u8868\u300c$A\\cap B$\u5728$A$\u4e2d\u6240\u4f54\u7684\u6bd4\u4f8b\u300d\uff0c\u53ef\u7c21\u55ae\u8868\u793a\u70ba$P(B|A)=\\frac{P(A\\cap B)} {P(A)}$\uff0c\u800c\u7576$A$\u4e0d\u53ef\u80fd\u767c\u751f\u6642\uff0c$P(B|A)$\u5247\u7121\u5b9a\u7fa9\u3002<br>\n",
      "<font color='green'>\n",
      "Definition.1-12:<br>\n",
      "Let $A$ and $B$ be two events such that $P(A)>0$<br>\n",
      "Then the conditional probability of B given A , written P(B|A) is defined to be $P(B|A)=\\frac{P(A\\cap B)}{P(A)}$<br>\n",
      "$P(B|A)$ is undefined if $P(A)=0$<br>\n",
      "\n",
      "</font>"
     ]
    },
    {
     "cell_type": "markdown",
     "metadata": {},
     "source": [
      "<font color='blue'>\n",
      "Example.1-13:<br>\n",
      "\u4e00\u623f\u9593\u5167\u6709\u4e09\u9053\u7d05\u9580\u548c\u5169\u9053\u85cd\u9580\uff0c\u73fe\u4efb\u9078\u4e00\u9053\u9580\uff0c\u9078\u4e2d\u4efb\u4f55\u4e00\u9053\u9580\u7684\u6a5f\u7387\u5747\u70ba$\\frac{1}{5}$\uff0c\u4e14\u7d93\u7d71\u8a08\u5f8c\u767c\u73fe\uff0c\u7d05\u9580\u5f8c\u65b9\u70ba\u51fa\u53e3\u7684\u6a5f\u7387\u70ba$\\frac{1}{9}$\uff1b\u85cd\u9580\u70ba$\\frac{1}{3}$\u3002<br>\n",
      "\u5247\uff1a\uff08\uff21\uff09\u5728$E_1=\\{\u9078\u5230\u85cd\u9580\u7684\u4e8b\u4ef6\\}$\u767c\u751f\u7684\u60c5\u6cc1\u4e0b\uff0c$E_2=\\{\u9078\u5230\u51fa\u53e3\u7684\u4e8b\u4ef6\\}$\u767c\u751f\u7684\u6a5f\u7387\u6709\u591a\u5c11\uff1f<br>\n",
      "\uff08\uff22\uff09\u5728$E_2$\u767c\u751f\u7684\u60c5\u6cc1\u4e0b\uff0c\u767c\u751f$E_1$\u7684\u6a5f\u7387\u6709\u591a\u5c11\uff1f<br>\n",
      "\uff08\uff23\uff09\u5728$E_1$\u6216$E_2$\u81f3\u5c11\u6709\u4e00\u767c\u751f\u7684\u60c5\u6cc1\u4e0b\uff0c$E_1$\u548c$E_2$\u90fd\u767c\u751f\u7684\u6a5f\u7387\u6709\u591a\u5c11\uff1f<br>\n",
      "</font>\n",
      "Sol:<br>\n",
      "\u7d93\u904e\u7cbe\u5bc6\u7684\u8a08\u7b97\uff0c$P(E_1)=\\frac{1}{5}+\\frac{1}{5}=\\frac{2}{5}$\uff0c$P(E_2)=\\frac{1}{15}+\\frac{2}{15}=\\frac{1}{5}$\uff0c$P(E_1\\cap E_2)=\\frac{2}{15}$<br>\n",
      "\u4e14$P(E_1 \\cup E_2)=\\frac{2}{5}+\\frac{1}{15}=\\frac{7}{15}$\uff0c\u5247\uff1a<br>\n",
      "\uff08\uff21\uff09$P(E_2|E_1)=\\frac{P(E_1\\cap E_2)}{P(E_1)}=\\frac{\\frac{2}{15}}{\\frac{2}{5}}=\\frac{1}{3}$<br>\n",
      "\uff08\uff22\uff09$P(E_1|E_2)=\\frac{P(E_1\\cap E_2)}{P(E_2)}=\\frac{\\frac{2}{15}}{\\frac{1}{5}}=\\frac{2}{3}$<br>\n",
      "\uff08\uff23\uff09$P((E_1\\cap E_2)|(E_1 \\cup E_2)) = \\frac{P((E_1\\cap E_2)\\cap (E_1\\cup E_2))}{P(E_1\\cup E_2)}=\\frac{P(E_1\\cap E_2)}{P(E_1\\cup E_2)}=\\frac{2}{7}$<br>\n",
      "<br>"
     ]
    },
    {
     "cell_type": "markdown",
     "metadata": {},
     "source": [
      "\u3000\u3000\u5f9e\u689d\u4ef6\u6a5f\u7387\u7684\u5b9a\u7fa9\uff0c\u6211\u5011\u4e5f\u53ef\u4ee5\u5f97\u5230\u5c0d\u4efb\u610f\u5169\u4e8b\u4ef6$A,B$\uff0c$P(A\\cap B)=P(A)P(B|A)=P(A|B)P(B)$<br>\n",
      "\u3000\u3000\u63a5\u8457\u6211\u5011\u4f86\u770b\u4e00\u500b\u5b9a\u7406\uff0c\u9019\u500b\u5b9a\u7406\u53eb\u4f5c<font color='red'>\u8c9d\u8449\u65af\u6cd5\u5247(Bayes' Rule)</font>\u3002\n",
      "<font color='green'>\n",
      "Property.1-14(Bayes' Rule):<br>\n",
      "Suppose $A_1,A_2,...,A_n$ are mutually disjoint events with union $\\Omega$\uff0cLet $B$ be an event such that $P(B) > 0$ <br>\n",
      "If $P(B|A_K)$ and $P(A_K)$ are specified for $1\\leq K \\leq n$ , then $P(A_i|B)=\\frac{P(A_i)P(B|A_i)}{\\sum_{K=1}^n P(A_K)P(B|A_K)}$\n",
      "</font><br>\n",
      "Sol:<br>\n",
      "\u56e0\u70ba$\\bigcup_{K=1}^n A_K=\\Omega$ \uff0c\u4e14$B=B\\cap\\Omega=B\\cap (\\bigcup_{K=1}^n A_K) = \\bigcup_{K=1}^n (B \\cap A_{K})$<br>\n",
      "\u5176\u4e2d$B\\cap A_1,B\\cap A_2,...,B\\cap A_n$\u70ba\u5169\u5169\u4e92\u65a5\u4e8b\u4ef6\uff0c\u56e0\u6b64$P(B)=\\sum_{K=1}^n P (B\\cap A_{K})$<br>\n",
      "\u56e0\u70ba$P(B|A_K)=\\frac{P(B\\cap A_K)}{P(A_K)} \\Rightarrow P(B\\cap A_K)=P(A_K)P(B|A_K)$<br>\n",
      "\u56e0\u6b64$P(A_i|B)=\\frac{P(A_i \\cap B)}{P(B)}=\\frac{P(A_i)P(B|A_i)}{\\sum_{K=1}^n P(A_{K})P(B|A_K)}$<br>\n",
      "\u3000\u3000\u4e00\u822c\u4f86\u8aaa$P(A|B)$ \u548c $P(B|A)$\u662f\u4e0d\u540c\u7684\uff0c\u4f46\u5169\u8005\u4e4b\u9593\u5b58\u5728\u8457\u4e00\u7a2e\u95dc\u4fc2\uff0c\u9673\u8ff0\u6b64\u95dc\u4fc2\u7684\u5b9a\u7406\u4fbf\u662f\u8c9d\u8449\u65af\u6cd5\u5247\u3002"
     ]
    },
    {
     "cell_type": "markdown",
     "metadata": {},
     "source": [
      "\u3000\u3000\u5728\u7ae0\u7bc01.4\u7684\u6700\u5f8c\uff0c\u6211\u5011\u8981\u4f86\u8a0e\u8ad6\u4e00\u500b\u91cd\u8981\u7684\u8a66\u9a57\uff0c<font color='red'>Polya\u7515\u69cb\u60f3(Polya Urn Scheme)</font><br>\n",
      "\u3000\u3000\u5728\u9019\u500b\u8a66\u9a57\u4e2d\u6211\u5011\u5c07\u770b\u5230\u689d\u4ef6\u6a5f\u7387\u80fd\u5982\u4f55\u4f7f\u7528\u3002<br>\n",
      "<font color='blue'>\n",
      "Example.1-15(Polya urn scheme):<br>\n",
      "\u4e00\u7b52\u5167\u88dd\u6709$r$\u9846\u7d05\u7403\u8207$b$\u9846\u9ed1\u7403\uff0c\u73fe\u62bd\u51fa\u4e00\u7403\uff0c\u82e5\u70ba\u7d05\u7403\u5247\u653e\u56de\u7b52\u5167\u4e26\u52a0\u5165$c$\u9846\u7d05\u7403\uff1b\u82e5\u70ba\u9ed1\u7403\u5247\u653e\u56de\u7b52\u5167\u4e26\u52a0\u5165$c$\u9846\u9ed1\u7403\uff0c\u5047\u8a2d\u6bcf\u4e00\u9846\u7403\u62bd\u51fa\u7684\u6a5f\u7387\u76f8\u7b49\uff0c\u4ee5\u4e0a\u8a66\u9a57\u7a31\u70baPolya Urn Scheme\u3002<br>\n",
      "\u8a66\u8b49\u660e\u4e0d\u8ad6\u9032\u884c\u591a\u5c11\u6b21\u8a66\u9a57\uff0c\u6bcf\u4e00\u6b21\u62bd\u51fa\u9ed1\u7403\u8207\u7d05\u7403\u7684\u6a5f\u7387\u4e0d\u8b8a\u3002<br>\n",
      "</font><br>\n",
      "proof:<br>\n",
      "\u5047\u8a2d\u5171\u9032\u884cN\u6b21\u8a66\u9a57\uff0c$\\Omega_k$\u8868\u793a\u7b2c$k$\u6b21\u8a66\u9a57\u7684\u6a23\u672c\u7a7a\u9593\uff0c$R_i$\u8868\u793a\u7b2c$i$\u6b21\u8a66\u9a57\u62bd\u51fa\u7d05\u7403\u7684\u4e8b\u4ef6\uff0c$B_j$\u8868\u793a\u7b2c$j$\u6b21\u8a66\u9a57\u62bd\u51fa\u9ed1\u7403\u7684\u4e8b\u4ef6\u3002<br>\n",
      "$\\forall i,j\\in\\Bbb{N}$ \uff0c$R_i,B_j$\u70ba\u5169\u5169\u4e92\u65a5\u4e8b\u4ef6\u3002<br>\n",
      "\u5df2\u77e5$P(R_1)=\\frac{r}{r+b}$\uff0c$P(B_1)=\\frac{b}{r+b}$<br>\n",
      "\u5247$P(R_2)=P(R_1\\cap R_2) + P(B_1 \\cap R_2) = P(R_1)P(R_2|R_1)+P(B_1)P(R_2|B_1)=(\\frac{r}{r+b} ) (\\frac{r+c}{r+b+c})+ ( \\frac{b}{r+b} )(\\frac{r}{r+b+c})=\\frac{r}{r+b}$<br>\n",
      "\u56e0\u70ba\u7b2c2\u6b21\u8a66\u9a57\u7d50\u679c\uff0c\u53ea\u6709\u53ef\u80fd\u662f\u300c\u62bd\u51fa\u7d05\u7403\u300d\u6216\u300c\u62bd\u51fa\u9ed1\u7403\u300d\uff0c\u56e0\u6b64$\\Omega_2=R_2\\cup B_2$ <br>\n",
      "$P(\\Omega_2)=1 \\Rightarrow P(R_2\\cup B_2)=1 \\Rightarrow P(R_2)+P(B_2)=1 \\Rightarrow P(B_2)=1-(\\frac{r}{r+b})=\\frac{b}{r+b}$<br><br>\n",
      "$R_3=(R_3\\cap R_2 \\cap R_1) \\cup (R_3 \\cap R_2 \\cap B_1) \\cup(R_3\\cap B_2 \\cap R_1) \\cup (R_3\\cap B_2 \\cap B_1)=(R_3\\cap R_2)\\cup(R_3\\cap B_2)$<br>\n",
      "\u7531\u65bc$(R_3\\cap R_2)$\u548c$(R_3\\cap B_2)$\u662f\u5169\u500b\u4e92\u65a5\u4e8b\u4ef6\uff0c\u56e0\u6b64$P(R_3)=P(R_3\\cap R_2)+P(R_3\\cap B_2)=P(R_2)P(R_3|R_2)+P(B_2)P(R_3|B_2)$<br>\n",
      "$\\Rightarrow P(R_3)=(\\frac{r}{r+b} ) (\\frac{r+c}{r+b+c})+ ( \\frac{b}{r+b} )(\\frac{r}{r+b+c})=\\frac{r}{r+b}$\uff0c\u5247$P(B_3)=1-(\\frac{r}{r+b})=\\frac{b}{r+b}$<br>\n",
      "\u85c9\u7531\u6578\u5b78\u6b78\u7d0d\u6cd5\uff0c$P(R_N)=P(R_{N-1})P(R_N|R_{N-1})+P(B_{N-1})P(R_N|B_{N-1})=(\\frac{r}{r+b} ) (\\frac{r+c}{r+b+c})+ ( \\frac{b}{r+b} )(\\frac{r}{r+b+c})=\\frac{r}{r+b}$<br>\n",
      "$P(B_N)=1-P(R_N)=\\frac{b}{r+b}$<br>"
     ]
    },
    {
     "cell_type": "heading",
     "level": 2,
     "metadata": {},
     "source": [
      "#1.5 \u7368\u7acb\u6027\u2014"
     ]
    },
    {
     "cell_type": "markdown",
     "metadata": {},
     "source": [
      "\u3000\u3000\u5728\u7ae0\u7bc01.1\u4e2d\uff0c\u6211\u5011\u66fe\u63d0\u5230\u300c\u5c0d\u65bc\u5169\u500b\u4e0d\u6703\u4e92\u76f8\u5f71\u97ff\u7684\u4e8b\u4ef6\uff0c\u6211\u5011\u7a31\u4e4b\u70ba<font color='red'>\u7368\u7acb(Independent)</font>\u300d\uff0c\u5982\u4eca\u6709\u4e86\u689d\u4ef6\u6a5f\u7387\u4e4b\u5f8c\uff0c\u6211\u5011\u4fbf\u80fd\u66f4\u8a73\u7d30\u7684\u8aaa\u660e\u4f55\u8b02<font color='red'>\u7368\u7acb\u6027(Independence)</font>\u3002<br>\n",
      "\u3000\u3000\u8acb\u8b80\u8005\u5148\u770b\u4ee5\u4e0b\u7bc4\u4f8b\uff0c\u4e26\u601d\u8003\u4ec0\u9ebc\u662f\u300c\u4e0d\u6703\u4e92\u76f8\u5f71\u97ff\u300d\uff1a<br>\n",
      "<font color='blue'>\n",
      "Example.1-16:<br>\n",
      "\u4eca\u6709\u4e00\u6a5f\u7387\u7a7a\u9593$(\\Omega,\\mathcal{A},P)$\uff0c\u5176\u4e2d$\\Omega=\\{1,2,3,4\\}$\uff0c$P(1)=P(2)=P(3)=P(4)=\\frac{1}{4}$<br>\n",
      "\u53d6\u51fa4\u500b\u4e8b\u4ef6\uff0c$A_1=\\{1\\} , B_1=\\{1,2\\} , A_2=\\{1,2,4\\} , B_2=\\{1,2,3\\}$ <br>\n",
      "\u4f9d\u64da\u5176\u6240\u5305\u542b\u7684\u9ede\uff0c\u53ef\u5f97$P(A_1)=\\frac{1}{4},P(B_1)=\\frac{2}{4},P(A_2)=\\frac{3}{4},P(B_2)=\\frac{3}{4}$<br>\n",
      "\u73fe\u6bd4\u8f03$P(A_1)$\u8207$P(A_1|B_1)$\uff0c\u5f97\u51fa$P(A_1|B_1)=\\frac{P(A_1\\cap B_1)}{P(B_1)}=\\frac{\\frac{1}{4}}{\\frac{1}{2}}=\\frac{1}{2}>\\frac{1}{4}=P(A_1)$<br>\n",
      "\u73fe\u6bd4\u8f03$P(A_2)$\u8207$P(A_2|B_2)$\uff0c\u5f97\u51fa$P(A_2|B_2)=\\frac{P(A_2\\cap B_2)}{P(B_2)}=\\frac{\\frac{1}{2}}{\\frac{3}{4}}=\\frac{2}{3} < \\frac{3}{4}=P(A_2)$<br>\n",
      "</font><br>"
     ]
    },
    {
     "cell_type": "markdown",
     "metadata": {},
     "source": [
      "\u3000\u3000\u7531\u4ee5\u4e0a\u7bc4\u4f8b\u53ef\u77e5\uff0c\u4efb\u610f\u5169\u4e8b\u4ef6$A$\u548c$B$\uff0c\u5176\u6a5f\u7387$P(A)$\u53ef\u80fd\u5927\u65bc\u3001\u5c0f\u65bc\u3001\u6216\u7b49\u65bc\u5176\u689d\u4ef6\u6a5f\u7387$P(A|B)$\u3002\u800c\u6211\u5011\u6240\u6307\u7684\u300c\u4e0d\u6703\u4e92\u76f8\u5f71\u97ff\u300d\uff0c\u53ef\u89e3\u91cb\u70ba\u300c\u5728\u767c\u751f$B$\u7684\u60c5\u6cc1\u4e0b\u767c\u751f$A$\u7684\u6a5f\u7387\uff0c\u548c\u767c\u751f$A$\u7684\u6a5f\u7387\u76f8\u540c\u3002\u300d\uff0c\u5982\u679c\u7528\u6578\u5b78\u5f0f\u5b50\u8868\u793a\uff0c\u5373\u70ba<font color='red'>\u300c$P(A|B)=P(A)$\u300d\u3002</font><br>\n",
      "\u3000\u3000\u6839\u64da$P(A|B)$\u7684\u5b9a\u7fa9\uff0c$P(A|B)=P(A) \\Rightarrow \\frac{P(A\\cap B)}{P(B)}=P(A) \\Rightarrow P(A\\cap B)=P(A)P(B)$\u3002<br>\n",
      "<font color='green'>\n",
      "Definition.1-17:<br>\n",
      "Two events $A$ and $B$ are independent if and only if $P(A\\cap B)=P(A)P(B)$<br>\n",
      "</font>\n",
      "\u3000\u3000\u60f3\u8981\u8b49\u660e$A$,$B$\u662f\u5169\u500b\u7368\u7acb\u7684\u4e8b\u4ef6\uff0c\u6709\u4ee5\u4e0b3\u500b\u65b9\u6cd5\uff1a<br>\n",
      "\u3000\u3000(i)\u8b49\u660e$P(A|B)=P(A)$<br>\n",
      "\u3000\u3000(ii)\u8b49\u660e$P(B|A)=P(B)$<br>\n",
      "\u3000\u3000(iii)\u8b49\u660e$P(A\\cap B)=P(A)P(B)$<br>"
     ]
    },
    {
     "cell_type": "markdown",
     "metadata": {},
     "source": [
      "<font color='green'>\n",
      "Definition.1-18:<br>\n",
      "\u7576\u6709\u591a\u500b\u4e8b\u4ef6$A_1,A_2,...,A_n$\u6642\uff0c\u5982\u679c\u4efb\u53d6\u5169\u500b\u76f8\u7570\u4e8b\u4ef6$A_i,A_j$\u7686\u7b26\u5408$P(A_i\\cap A_j)=P(A_i)P(A_j)$\uff0c\u7a31\u70ba<font color='red'>\u5169\u5169\u7368\u7acb(Pairwise Independent)</font>\uff1b<br>\n",
      "\u5982\u679c\u5c0d\u65bc$K=2,3,...,n$\u4efb\u53d6$K$\u500b\u76f8\u7570\u4e8b\u4ef6$A_{a_1},A_{a_2},...,A_{a_K}$\uff0c\u7686\u7b26\u5408$P(\\bigcap_{i=1}^K A_{a_i})=\\prod_{i=1}^K P(A_{a_i})$\uff0c\u7a31\u70ba<font color='red'>\u76f8\u4e92\u7368\u7acb(Mutually Independent)</font>\u3002<br>\n",
      "</font><br>\n",
      "\u3000\u3000\u7531\u4ee5\u4e0a\u5b9a\u7fa9\u53ef\u77e5\uff0c\u76f8\u4e92\u7368\u7acb\u5fc5\u5b9a\u5169\u5169\u7368\u7acb\uff0c\u4f46\u5169\u5169\u7368\u7acb\u537b\u4e0d\u4e00\u5b9a\u662f\u76f8\u4e92\u7368\u7acb\u3002<br>\n",
      "\u3000\u3000\u5982\u679c$A_1,A_2,...,A_n$\u70ba\u76f8\u4e92\u7368\u7acb\u7684\u4e8b\u4ef6\u3002<br>\n",
      "\u3000\u3000\u5247\u5c0d\u65bc\u4efb\u610f\u76f8\u7570\u7684$K$\u500b\u4e8b\u4ef6$A_{a_1},A_{a_2},...,A_{a_{k}}$\uff0c\u6211\u5011\u53ef\u4ee5\u5f97\u51fa\u4ee5\u4e0b\u516c\u5f0f\uff1a<br>\n",
      "\u3000\u3000$P(A_{a_1}|\\bigcap_{i=2}^K A_{a_i})=\\frac{P(\\bigcap_{j=1}^K A_{a_j})}{P(\\bigcap_{i=2}^K A_{a_i})}=_{(\u56e0\u70ba\u76f8\u4e92\u7368\u7acb)}\\frac{\\prod_{j=1}^K P(A_{a_j})}{\\prod_{i=2}^K P(A_{a_i})}=P(A_{a_1})$\n"
     ]
    },
    {
     "cell_type": "markdown",
     "metadata": {},
     "source": [
      "<font color='blue'>\n",
      "Example.1-19:<br>\n",
      "\u4ee4$\\Omega=\\{1,2,3,4\\}$\uff0c\u4ee5\u53ca3\u500b\u4e8b\u4ef6$A_1=\\{1,2\\},A_2=\\{1,3\\},A_3=\\{1,4\\}$\uff0c\u6a5f\u7387\u5206\u5225\u70ba$P(1)=P(2)=P(3)=P(4)=\\frac{1}{4}$<br>\n",
      "\u8b49\u660e$A_1,A_2,A_3$\u70ba\u5169\u5169\u7368\u7acb\u4f46\u4e0d\u70ba\u76f8\u4e92\u7368\u7acb\u3002<br>\n",
      "</font><br>\n",
      "proof:<br>\n",
      "\u5df2\u77e5$P(A_1)=P(A_2)=P(A_3)=\\frac{1}{2}$ , $A_1\\cap A_2=A_1\\cap A_3=A_2\\cap A_3=A_1\\cap A_2\\cap A_3=\\{1\\}$<br>\n",
      "$P(A_1|A_2)=\\frac{P(A_1\\cap A_2)}{P(A_2)}=\\frac{\\frac{1}{4}}{\\frac{1}{2}}=\\frac{1}{2}=P(A_1)$\uff0c\u56e0\u6b64$A_1$\u548c$A_2$\u70ba\u7368\u7acb\u4e8b\u4ef6\u3002<br><br>\n",
      "$P(A_1|A_3)=\\frac{P(A_1\\cap A_3)}{P(A_3)}=\\frac{\\frac{1}{4}}{\\frac{1}{2}}=\\frac{1}{2}=P(A_1)$\uff0c\u56e0\u6b64$A_1$\u548c$A_3$\u70ba\u7368\u7acb\u4e8b\u4ef6\u3002<br><br>\n",
      "$P(A_2|A_3)=\\frac{P(A_2\\cap A_3)}{P(A_3)}=\\frac{\\frac{1}{4}}{\\frac{1}{2}}=\\frac{1}{2}=P(A_2)$\uff0c\u56e0\u6b64$A_2$\u548c$A_3$\u70ba\u7368\u7acb\u4e8b\u4ef6\u3002<br><br>\n",
      "\u6240\u4ee5$A_1,A_2,A_3$\u662f\u5169\u5169\u7368\u7acb\u4e8b\u4ef6\u3002<br>\n",
      "\u4f46\u662f$P(A_1\\cap A_2 \\cap A_3)=P(1)=\\frac{1}{4} \\not = \\frac{1}{8}=P(A_1)P(A_2)P(A_3)$<br>\n",
      "\u56e0\u6b64$A_1,A_2,A_3$\u4e0d\u662f\u76f8\u4e92\u7368\u7acb\u4e8b\u4ef6\u3002<br><br>\n",
      "\u3000\u3000\u7531\u4ee5\u4e0a\u7bc4\u4f8b\u53ef\u77e5\uff0c\u8981\u77e5\u9053\u4e00\u7d44\u4e8b\u4ef6$A_1,A_2,...,A_n$\u662f\u5426\u70ba\u76f8\u4e92\u7368\u7acb\uff0c\u7e3d\u5171\u9700\u8981\u505a$2^n-n-1$\u6b21\u6bd4\u8f03\u3002<br>"
     ]
    },
    {
     "cell_type": "markdown",
     "metadata": {},
     "source": [
      "<font color='red'>\n",
      "\u88dc\u5145:\u5169\u5169\u7368\u7acb\u96d6\u7136\u4e0d\u4ee3\u8868\u76f8\u4e92\u7368\u7acb\uff0c\u4f46\u5169\u5169\u4e92\u65a5\u537b\u4ee3\u8868\u8457\u76f8\u4e92\u4e92\u65a5\uff01<br>\n",
      "\u8209\u4f8b\u4f86\u8aaa\uff0c\u82e5$A_1\\cap A_2=\\varnothing,A_1\\cap A_3=\\varnothing,A_2\\cap A_3=\\varnothing$\uff0c\u5247$A_1\\cap A_2\\cap A_3 \\subset A_1\\cap A_2=\\varnothing$<br>\n",
      "$\\Rightarrow A_1\\cap A_2\\cap A_3 =\\varnothing$\n",
      "</font>"
     ]
    },
    {
     "cell_type": "heading",
     "level": 2,
     "metadata": {},
     "source": [
      "#1.6 \u7fd2\u984c\u2014"
     ]
    },
    {
     "cell_type": "markdown",
     "metadata": {},
     "source": [
      "<font color='blue'>\n",
      "Exercise.1-20:<br>\n",
      "\u64f2\u4e00\u500b\u5747\u52fb\u7684\u9ab0\u5b50(\u6bcf\u4e00\u9762\u51fa\u73fe\u6a5f\u7387\u5747\u7b49)\u5169\u6b21\u4e4b\u9ede\u6578\u548c\u53ef\u8996\u70ba\u4e00\u500b\u7c21\u55ae\u7684\u96a8\u6a5f\u8a66\u9a57\uff0c\u4e26\u53ef\u4f9d\u6b64\u5efa\u7acb\u4e00\u500b\u6a5f\u7387\u7a7a\u9593$(\\Omega,\\mathcal{A},P)$<br>\n",
      "\uff08A\uff09\u8acb\u5217\u51fa$\\Omega$\u4e2d\u6240\u6709\u7684\u5143\u7d20\u4e26\u8a73\u7d30\u8aaa\u660e\uff0c\u6b64$\\Omega$\u4e26\u4e0d\u552f\u4e00\u3002<br>\n",
      "\uff08B\uff09\u8acb\u8aaa\u660e$\\mathcal{A}$\u70ba\u4f55\u7269\uff0c\u8a08\u7b97$\\mathcal{A}$\u4e2d\u7684\u5143\u7d20\u500b\u6578\u6709\u591a\u5c11\uff0c\u4e26\u89e3\u91cb\u70ba\u4f55$\\mathcal{A}$\u662f\u4e00\u500b$\\sigma$-algebra\u3002<br>\n",
      "\uff08C\uff09\u5b9a\u7fa9$P$\uff0c\u4e26\u5206\u5225\u8a08\u7b97$P(\\Omega),P(\\{\u9ede\u6578\u548c\u70ba4\u7684\u4e8b\u4ef6\\}),P(\\{\u9ede\u6578\u548c\u70ba\u5947\u6578\u7684\u4e8b\u4ef6\\})$<br>\n",
      "\uff08Hint for\uff08B\uff09:\u63cf\u8ff0$\\mathcal{A}$\u7684\u5b9a\u7fa9\uff0c\u4e26\u548c$\\sigma$-algebra\u7684\u5b9a\u7fa9\u505a\u6bd4\u8f03\uff09<br>\n",
      "</font>\n",
      "Sol:<br>\n",
      "<font color='grey'>\n",
      "\uff08A\uff09$\\Omega=\\{S_2,S_3,...,S_{12}\\}$\uff0c\u5176\u4e2d$S_i$\u8868\u793a\u9ede\u6578\u548c\u70ba$i$\u7684\u4e8b\u4ef6\u3002<br><br>\n",
      "\uff08B\uff09$A$\u70ba$\\Omega$\u7684\u51aa\u96c6(Power set)\uff0c\u4e5f\u5c31\u662f\u6536\u96c6$\\Omega$\u4e2d\u6240\u6709\u5b50\u96c6\u5408\u7684\u96c6\u5408<br>\n",
      "$\\mathcal{A}=\\{\\varnothing,\\{S_2\\},\\{S_3\\},...,\\{S_3,S_4,...,S_{12}\\},\\Omega\\}$\uff0c\u5171\u6709$\\binom{12}{0}+\\binom{12}{1}+...+\\binom{12}{12}=2^{12}$\u500b\u5143\u7d20\u3002<br>\n",
      "\u4e14$\\mathcal{A}$\u6709\u4ee5\u4e0b3\u500b\u6027\u8cea<br>\n",
      "(b1):$\\mathcal{A}$ \u975e\u7a7a\u3002<br>\n",
      "(b2):\u5c0d\u6240\u6709\u5728$\\mathcal{A}$\u5167\u7684\u5143\u7d20$A$\uff0c$A^C$\u4e5f\u5fc5\u70ba$\\mathcal{A}$\u5167\u7684\u5143\u7d20\u3002<br>\n",
      "(b3):\u5982\u679c$A_n,n=1,2,...$\u662f\u4e00\u7d44$\\mathcal{A}$\u5167\u7684\u5143\u7d20\uff0c\u5247\u5176\u806f\u96c6\u8207\u4ea4\u96c6\u4e5f\u662f$\\mathcal{A}$\u5167\u7684\u5143\u7d20\u3002<br>\n",
      "\u6839\u64da$\\sigma$-algebra\u7684\u5b9a\u7fa9\uff0c$\\mathcal{A}$\u662f\u4e00\u500b$\\sigma$-algebra\u3002<br><br>\n",
      "\uff08C\uff09$P$\u662f\u6a5f\u7387\u6e2c\u5ea6\uff0c$P$\u6703\u5c07$\\mathcal{A}$\u4e2d\u7684\u6bcf\u4e00\u500b\u5143\u7d20\u6620\u5230\u4e00\u500b\u4ecb\u65bc0\u548c1\u4e4b\u9593\u7684\u5be6\u6578\u3002<br>\n",
      "\u4e14\u7531\u984c\u610f\u77e5$P(\\{\u9ab0\u51fa1\u9ede\\})=P(\\{\u9ab0\u51fa2\u9ede\\})=...=P(\\{\u9ab0\u51fa6\u9ede\\})=\\frac{1}{6}$<br>\n",
      "\u7531\u5b9a\u7fa9\u53ef\u77e5$P(\\Omega)=1$\uff0c\u800c\u6839\u64da\u984c\u610f$P(S_2)=(\\frac{1}{6})(\\frac{1}{6})=\\frac{1}{36},P(S_3)=\\frac{2}{36},P(S_4)=\\frac{3}{36},P(S_5)=\\frac{4}{36}$<br>\n",
      "$P(S_6)=\\frac{5}{36},P(S_7)=\\frac{6}{36},P(S_8)=\\frac{5}{36},P(S_9)=\\frac{4}{36},P(S_{10})=\\frac{3}{36},P(S_{11})=\\frac{2}{36},P(S_{12})=\\frac{1}{36}$<br>\n",
      "\u6240\u4ee5$P(\\{\u9ede\u6578\u548c\u70ba4\u7684\u4e8b\u4ef6\\})=P(\\{S_4\\})=\\frac{3}{36}$<br>\n",
      "\u7531\u65bc$S_2,...,S_12$\u70ba\u4e92\u65a5\u4e8b\u4ef6<br>\n",
      "$P(\\{\u9ede\u6578\u548c\u70ba\u5947\u6578\u7684\u4e8b\u4ef6\\})=P(S_3\\cup S_5 \\cup S_7 \\cup S_9 \\cup S_11)=P(S_3)+P(S_5)+...+P(S_11)=\\frac{18}{36}=\\frac{1}{2}$<br>\n",
      "\n",
      "</font>"
     ]
    },
    {
     "cell_type": "markdown",
     "metadata": {},
     "source": [
      "<font color='blue'>\n",
      "Exercise.1-21:<br>\n",
      "\u67d0\u5927\u5b78\u753170%\u7537\u6027\u820730%\u5973\u6027\u6240\u7d44\u6210\uff0c\u5df2\u77e5\u7537\u6027\u4e2d40%\u548c\u5973\u6027\u4e2d60%\u7684\u4eba\u62bd\u7159\uff0c\u73fe\u96a8\u6a5f\u89c0\u5bdf\u4e00\u4eba\uff0c\u8acb\u554f\u4e00\u500b\u6b63\u5728\u62bd\u7159\u7684\u4eba\u662f\u7537\u6027\u7684\u6a5f\u7387\u6709\u591a\u5c11\uff1f<br>\n",
      "</font>\n",
      "Sol:<br>\n",
      "<font color='grey'>\n",
      "\u4ee4\u96a8\u6a5f\u89c0\u5bdf\u4e00\u4eba\u7684\u6a23\u672c\u7a7a\u9593\u70ba$\\Omega=\\{\u7537\u62bd,\u5973\u62bd,\u7537\u4e0d\u62bd,\u5973\u4e0d\u62bd\\}$<br>\n",
      "\u4ee4$A=\\{\u89c0\u5bdf\u7d50\u679c\u70ba\u7537\u4eba\u7684\u4e8b\u4ef6\\}=\\{\u7537\u62bd,\u7537\u4e0d\u62bd\\}$ \uff0c$B=\\{\u89c0\u5bdf\u7d50\u679c\u70ba\u62bd\u7159\u7684\u4e8b\u4ef6\\}=\\{\u7537\u62bd,\u5973\u62bd\\}$<br>\n",
      "\u53ef\u5f97$A\\cap B=\\{\u7537\u62bd\\}$ \uff0c$P(A)=0.7 , P(B)=(0.7)(0.4)+(0.3)(0.6)=0.28+0.18=0.46\uff0cP(A\\cap B)=0.28$<br>\n",
      "\u56e0\u6b64\u984c\u76ee\u6240\u6c42\u70ba$P(A|B)=\\frac{P(A\\cap B)}{P(B)}=\\frac{0.28}{0.46}=\\frac{14}{23}$<br>\n",
      "</font>"
     ]
    },
    {
     "cell_type": "markdown",
     "metadata": {},
     "source": [
      "<font color='blue'>\n",
      "Exercise.1-22:<br>\n",
      "\u795e\u5c04\u624b\u547d\u4e2d\u76ee\u6a19\u7684\u6a5f\u7387\u662f$\\frac{9}{10}$\uff0c\u7e3d\u5171\u5c04\u64ca12\u6b21\uff0c\u5047\u8a2d\u6bcf\u4e00\u6b21\u5c04\u64ca\u7686\u70ba\u7368\u7acb\u4e8b\u4ef6\uff0c\u8acb\u554f\uff1a<br>\n",
      "\uff08A\uff09\u795e\u5c04\u624b\u81f3\u5c11\u5c04\u4e2d\u4e00\u6b21\u7684\u6a5f\u7387\u662f\u591a\u5c11\uff1f<br>\n",
      "\uff08B\uff09\u5df2\u77e5\u795e\u5c04\u624b\u81f3\u5c11\u5c04\u4e2d\u4e00\u6b21\u7684\u60c5\u6cc1\u4e0b\uff0c\u5c04\u4e2d\u5169\u6b21\u7684\u6a5f\u7387\u662f\u591a\u5c11\uff1f<br>\n",
      "</font>\n",
      "Sol:<br>\n",
      "<font color='grey'>\n",
      "\uff08A\uff09\u4ee4$Y_i$\u4ee3\u886812\u6b21\u5c04\u64ca\u4e2d\u64ca\u4e2d\u76ee\u6a19$i$\u6b21\u7684\u4e8b\u4ef6\uff0c\u5176\u4e2d$i=0,1,2,...,12$\uff0c\u5247$P(Y_i)=\\binom{12}{i}(\\frac{9}{10})^i(\\frac{1}{10})^{12-i}$<br>\n",
      "\u6211\u5011\u4ee5$\\binom{12}{i}=C_i^{12}=\\frac{12!}{i! (12-i)!}$\u4ee3\u8868\u5176\u7d44\u5408\u6578\uff0c\u7531\u984c\u610f\u53ef\u77e5$\\Omega=Y_0\\cup Y_1\\cup...\\cup Y_{12}$<br>\n",
      "\u56e0\u70ba\u901913\u500b\u4e8b\u4ef6\u70ba\u5169\u5169\u4e92\u65a5\u4e8b\u4ef6\uff0c\u56e0\u6b64$1=P(\\Omega)=P(Y_0\\cup Y_1 \\cup ... \\cup Y_{12})=P(Y_{0})+P(Y_1)+...+P(Y_{12})$<br>\n",
      "\u984c\u76ee\u6240\u6c42\u70ba$E_1=\\{\u81f3\u5c11\u5c04\u4e2d\u4e00\u6b21\u7684\u4e8b\u4ef6\\}=\\{Y_1\\cup Y_2 \\cup ... \\cup Y_{12}\\}$\u4e4b\u6a5f\u7387<br>\n",
      "$P(E_1)=P(\\{Y_1\\cup Y_2 \\cup ... \\cup Y_{12}\\}=1-P(Y_0)=1-\\binom{12}{0}(\\frac{9}{10})^0(\\frac{1}{10})^{12-0}=1-(\\frac{1}{10})^{12}$<br><br>\n",
      "\uff08B\uff09\u4ee4$E_2=\\{\u81f3\u5c11\u5c04\u4e2d\u5169\u6b21\u7684\u4e8b\u4ef6\\}=\\{Y_{2}\\cup Y_3 \\cup ... \\cup Y_{12}\\}$\uff0c\u5247$E_2\\subset E_1 \\Rightarrow E_1\\cap E_2 = E_2$<br>\n",
      "\u984c\u76ee\u6240\u6c42\u70ba$E_2$\u5728$E_1$\u7684\u689d\u4ef6\u6a5f\u7387\uff0c$P(E_2|E_1)=\\frac{P(E_1\\cap E_2)}{P(E_1)}=\\frac{P(E_2)}{1-(\\frac{1}{10})^{12}}=\\frac{1-(\\frac{1}{10})^{12}-12(\\frac{9}{10})^1(\\frac{1}{10})^{11}}{1-(\\frac{1}{10})^{12}}$<br>\n",
      "</font>\n"
     ]
    },
    {
     "cell_type": "heading",
     "level": 6,
     "metadata": {},
     "source": [
      "This note written by HyperError"
     ]
    }
   ],
   "metadata": {}
  }
 ]
}